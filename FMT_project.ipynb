{
 "cells": [
  {
   "cell_type": "code",
   "execution_count": 1,
   "id": "e7f27555",
   "metadata": {},
   "outputs": [],
   "source": [
    "import pandas as pd\n",
    "import numpy as np\n",
    "import seaborn as sns\n",
    "import matplotlib.pyplot as plt\n",
    "%matplotlib inline\n",
    "from sklearn.model_selection import train_test_split,RandomizedSearchCV,GridSearchCV\n",
    "from sklearn.preprocessing import StandardScaler\n",
    "from sklearn.svm import SVC\n",
    "from sklearn.metrics import accuracy_score, precision_score, recall_score, f1_score, confusion_matrix,classification_report\n",
    "from sklearn.model_selection import cross_val_score\n",
    "from imblearn.over_sampling import RandomOverSampler\n",
    "from sklearn.tree import DecisionTreeClassifier\n",
    "from sklearn.ensemble import RandomForestClassifier,AdaBoostClassifier,GradientBoostingClassifier\n",
    "from sklearn.neighbors import KNeighborsClassifier\n",
    "from sklearn.decomposition import PCA\n",
    "from sklearn import metrics\n",
    "import pickle\n"
   ]
  },
  {
   "cell_type": "markdown",
   "id": "81525fe6",
   "metadata": {},
   "source": [
    "##### Q1 A -Import ‘signal-data.csv’ as DataFrame"
   ]
  },
  {
   "cell_type": "code",
   "execution_count": 2,
   "id": "19afee1d",
   "metadata": {},
   "outputs": [
    {
     "data": {
      "text/plain": [
       "(1567, 592)"
      ]
     },
     "execution_count": 2,
     "metadata": {},
     "output_type": "execute_result"
    }
   ],
   "source": [
    "signal_df = pd.read_csv(\"signal-data.csv\")\n",
    "signal_df.head(10)\n",
    "signal_df.shape"
   ]
  },
  {
   "cell_type": "markdown",
   "id": "d8a579fe",
   "metadata": {},
   "source": [
    "##### Q1 B -Print 5 point summary and share at least 2 observations."
   ]
  },
  {
   "cell_type": "code",
   "execution_count": 3,
   "id": "8d505ef0",
   "metadata": {},
   "outputs": [
    {
     "data": {
      "text/html": [
       "<div>\n",
       "<style scoped>\n",
       "    .dataframe tbody tr th:only-of-type {\n",
       "        vertical-align: middle;\n",
       "    }\n",
       "\n",
       "    .dataframe tbody tr th {\n",
       "        vertical-align: top;\n",
       "    }\n",
       "\n",
       "    .dataframe thead th {\n",
       "        text-align: right;\n",
       "    }\n",
       "</style>\n",
       "<table border=\"1\" class=\"dataframe\">\n",
       "  <thead>\n",
       "    <tr style=\"text-align: right;\">\n",
       "      <th></th>\n",
       "      <th>Time</th>\n",
       "      <th>0</th>\n",
       "      <th>1</th>\n",
       "      <th>2</th>\n",
       "      <th>3</th>\n",
       "      <th>4</th>\n",
       "      <th>5</th>\n",
       "      <th>6</th>\n",
       "      <th>7</th>\n",
       "      <th>8</th>\n",
       "      <th>...</th>\n",
       "      <th>581</th>\n",
       "      <th>582</th>\n",
       "      <th>583</th>\n",
       "      <th>584</th>\n",
       "      <th>585</th>\n",
       "      <th>586</th>\n",
       "      <th>587</th>\n",
       "      <th>588</th>\n",
       "      <th>589</th>\n",
       "      <th>Pass/Fail</th>\n",
       "    </tr>\n",
       "  </thead>\n",
       "  <tbody>\n",
       "    <tr>\n",
       "      <th>count</th>\n",
       "      <td>1567</td>\n",
       "      <td>1561.000000</td>\n",
       "      <td>1560.000000</td>\n",
       "      <td>1553.000000</td>\n",
       "      <td>1553.000000</td>\n",
       "      <td>1553.000000</td>\n",
       "      <td>1553.0</td>\n",
       "      <td>1553.000000</td>\n",
       "      <td>1558.000000</td>\n",
       "      <td>1565.000000</td>\n",
       "      <td>...</td>\n",
       "      <td>618.000000</td>\n",
       "      <td>1566.000000</td>\n",
       "      <td>1566.000000</td>\n",
       "      <td>1566.000000</td>\n",
       "      <td>1566.000000</td>\n",
       "      <td>1566.000000</td>\n",
       "      <td>1566.000000</td>\n",
       "      <td>1566.000000</td>\n",
       "      <td>1566.000000</td>\n",
       "      <td>1567.000000</td>\n",
       "    </tr>\n",
       "    <tr>\n",
       "      <th>unique</th>\n",
       "      <td>1534</td>\n",
       "      <td>NaN</td>\n",
       "      <td>NaN</td>\n",
       "      <td>NaN</td>\n",
       "      <td>NaN</td>\n",
       "      <td>NaN</td>\n",
       "      <td>NaN</td>\n",
       "      <td>NaN</td>\n",
       "      <td>NaN</td>\n",
       "      <td>NaN</td>\n",
       "      <td>...</td>\n",
       "      <td>NaN</td>\n",
       "      <td>NaN</td>\n",
       "      <td>NaN</td>\n",
       "      <td>NaN</td>\n",
       "      <td>NaN</td>\n",
       "      <td>NaN</td>\n",
       "      <td>NaN</td>\n",
       "      <td>NaN</td>\n",
       "      <td>NaN</td>\n",
       "      <td>NaN</td>\n",
       "    </tr>\n",
       "    <tr>\n",
       "      <th>top</th>\n",
       "      <td>2008-10-15 01:52:00</td>\n",
       "      <td>NaN</td>\n",
       "      <td>NaN</td>\n",
       "      <td>NaN</td>\n",
       "      <td>NaN</td>\n",
       "      <td>NaN</td>\n",
       "      <td>NaN</td>\n",
       "      <td>NaN</td>\n",
       "      <td>NaN</td>\n",
       "      <td>NaN</td>\n",
       "      <td>...</td>\n",
       "      <td>NaN</td>\n",
       "      <td>NaN</td>\n",
       "      <td>NaN</td>\n",
       "      <td>NaN</td>\n",
       "      <td>NaN</td>\n",
       "      <td>NaN</td>\n",
       "      <td>NaN</td>\n",
       "      <td>NaN</td>\n",
       "      <td>NaN</td>\n",
       "      <td>NaN</td>\n",
       "    </tr>\n",
       "    <tr>\n",
       "      <th>freq</th>\n",
       "      <td>3</td>\n",
       "      <td>NaN</td>\n",
       "      <td>NaN</td>\n",
       "      <td>NaN</td>\n",
       "      <td>NaN</td>\n",
       "      <td>NaN</td>\n",
       "      <td>NaN</td>\n",
       "      <td>NaN</td>\n",
       "      <td>NaN</td>\n",
       "      <td>NaN</td>\n",
       "      <td>...</td>\n",
       "      <td>NaN</td>\n",
       "      <td>NaN</td>\n",
       "      <td>NaN</td>\n",
       "      <td>NaN</td>\n",
       "      <td>NaN</td>\n",
       "      <td>NaN</td>\n",
       "      <td>NaN</td>\n",
       "      <td>NaN</td>\n",
       "      <td>NaN</td>\n",
       "      <td>NaN</td>\n",
       "    </tr>\n",
       "    <tr>\n",
       "      <th>mean</th>\n",
       "      <td>NaN</td>\n",
       "      <td>3014.452896</td>\n",
       "      <td>2495.850231</td>\n",
       "      <td>2200.547318</td>\n",
       "      <td>1396.376627</td>\n",
       "      <td>4.197013</td>\n",
       "      <td>100.0</td>\n",
       "      <td>101.112908</td>\n",
       "      <td>0.121822</td>\n",
       "      <td>1.462862</td>\n",
       "      <td>...</td>\n",
       "      <td>97.934373</td>\n",
       "      <td>0.500096</td>\n",
       "      <td>0.015318</td>\n",
       "      <td>0.003847</td>\n",
       "      <td>3.067826</td>\n",
       "      <td>0.021458</td>\n",
       "      <td>0.016475</td>\n",
       "      <td>0.005283</td>\n",
       "      <td>99.670066</td>\n",
       "      <td>-0.867262</td>\n",
       "    </tr>\n",
       "    <tr>\n",
       "      <th>std</th>\n",
       "      <td>NaN</td>\n",
       "      <td>73.621787</td>\n",
       "      <td>80.407705</td>\n",
       "      <td>29.513152</td>\n",
       "      <td>441.691640</td>\n",
       "      <td>56.355540</td>\n",
       "      <td>0.0</td>\n",
       "      <td>6.237214</td>\n",
       "      <td>0.008961</td>\n",
       "      <td>0.073897</td>\n",
       "      <td>...</td>\n",
       "      <td>87.520966</td>\n",
       "      <td>0.003404</td>\n",
       "      <td>0.017180</td>\n",
       "      <td>0.003720</td>\n",
       "      <td>3.578033</td>\n",
       "      <td>0.012358</td>\n",
       "      <td>0.008808</td>\n",
       "      <td>0.002867</td>\n",
       "      <td>93.891919</td>\n",
       "      <td>0.498010</td>\n",
       "    </tr>\n",
       "    <tr>\n",
       "      <th>min</th>\n",
       "      <td>NaN</td>\n",
       "      <td>2743.240000</td>\n",
       "      <td>2158.750000</td>\n",
       "      <td>2060.660000</td>\n",
       "      <td>0.000000</td>\n",
       "      <td>0.681500</td>\n",
       "      <td>100.0</td>\n",
       "      <td>82.131100</td>\n",
       "      <td>0.000000</td>\n",
       "      <td>1.191000</td>\n",
       "      <td>...</td>\n",
       "      <td>0.000000</td>\n",
       "      <td>0.477800</td>\n",
       "      <td>0.006000</td>\n",
       "      <td>0.001700</td>\n",
       "      <td>1.197500</td>\n",
       "      <td>-0.016900</td>\n",
       "      <td>0.003200</td>\n",
       "      <td>0.001000</td>\n",
       "      <td>0.000000</td>\n",
       "      <td>-1.000000</td>\n",
       "    </tr>\n",
       "    <tr>\n",
       "      <th>25%</th>\n",
       "      <td>NaN</td>\n",
       "      <td>2966.260000</td>\n",
       "      <td>2452.247500</td>\n",
       "      <td>2181.044400</td>\n",
       "      <td>1081.875800</td>\n",
       "      <td>1.017700</td>\n",
       "      <td>100.0</td>\n",
       "      <td>97.920000</td>\n",
       "      <td>0.121100</td>\n",
       "      <td>1.411200</td>\n",
       "      <td>...</td>\n",
       "      <td>46.184900</td>\n",
       "      <td>0.497900</td>\n",
       "      <td>0.011600</td>\n",
       "      <td>0.003100</td>\n",
       "      <td>2.306500</td>\n",
       "      <td>0.013425</td>\n",
       "      <td>0.010600</td>\n",
       "      <td>0.003300</td>\n",
       "      <td>44.368600</td>\n",
       "      <td>-1.000000</td>\n",
       "    </tr>\n",
       "    <tr>\n",
       "      <th>50%</th>\n",
       "      <td>NaN</td>\n",
       "      <td>3011.490000</td>\n",
       "      <td>2499.405000</td>\n",
       "      <td>2201.066700</td>\n",
       "      <td>1285.214400</td>\n",
       "      <td>1.316800</td>\n",
       "      <td>100.0</td>\n",
       "      <td>101.512200</td>\n",
       "      <td>0.122400</td>\n",
       "      <td>1.461600</td>\n",
       "      <td>...</td>\n",
       "      <td>72.288900</td>\n",
       "      <td>0.500200</td>\n",
       "      <td>0.013800</td>\n",
       "      <td>0.003600</td>\n",
       "      <td>2.757650</td>\n",
       "      <td>0.020500</td>\n",
       "      <td>0.014800</td>\n",
       "      <td>0.004600</td>\n",
       "      <td>71.900500</td>\n",
       "      <td>-1.000000</td>\n",
       "    </tr>\n",
       "    <tr>\n",
       "      <th>75%</th>\n",
       "      <td>NaN</td>\n",
       "      <td>3056.650000</td>\n",
       "      <td>2538.822500</td>\n",
       "      <td>2218.055500</td>\n",
       "      <td>1591.223500</td>\n",
       "      <td>1.525700</td>\n",
       "      <td>100.0</td>\n",
       "      <td>104.586700</td>\n",
       "      <td>0.123800</td>\n",
       "      <td>1.516900</td>\n",
       "      <td>...</td>\n",
       "      <td>116.539150</td>\n",
       "      <td>0.502375</td>\n",
       "      <td>0.016500</td>\n",
       "      <td>0.004100</td>\n",
       "      <td>3.295175</td>\n",
       "      <td>0.027600</td>\n",
       "      <td>0.020300</td>\n",
       "      <td>0.006400</td>\n",
       "      <td>114.749700</td>\n",
       "      <td>-1.000000</td>\n",
       "    </tr>\n",
       "    <tr>\n",
       "      <th>max</th>\n",
       "      <td>NaN</td>\n",
       "      <td>3356.350000</td>\n",
       "      <td>2846.440000</td>\n",
       "      <td>2315.266700</td>\n",
       "      <td>3715.041700</td>\n",
       "      <td>1114.536600</td>\n",
       "      <td>100.0</td>\n",
       "      <td>129.252200</td>\n",
       "      <td>0.128600</td>\n",
       "      <td>1.656400</td>\n",
       "      <td>...</td>\n",
       "      <td>737.304800</td>\n",
       "      <td>0.509800</td>\n",
       "      <td>0.476600</td>\n",
       "      <td>0.104500</td>\n",
       "      <td>99.303200</td>\n",
       "      <td>0.102800</td>\n",
       "      <td>0.079900</td>\n",
       "      <td>0.028600</td>\n",
       "      <td>737.304800</td>\n",
       "      <td>1.000000</td>\n",
       "    </tr>\n",
       "  </tbody>\n",
       "</table>\n",
       "<p>11 rows × 592 columns</p>\n",
       "</div>"
      ],
      "text/plain": [
       "                       Time            0            1            2  \\\n",
       "count                  1567  1561.000000  1560.000000  1553.000000   \n",
       "unique                 1534          NaN          NaN          NaN   \n",
       "top     2008-10-15 01:52:00          NaN          NaN          NaN   \n",
       "freq                      3          NaN          NaN          NaN   \n",
       "mean                    NaN  3014.452896  2495.850231  2200.547318   \n",
       "std                     NaN    73.621787    80.407705    29.513152   \n",
       "min                     NaN  2743.240000  2158.750000  2060.660000   \n",
       "25%                     NaN  2966.260000  2452.247500  2181.044400   \n",
       "50%                     NaN  3011.490000  2499.405000  2201.066700   \n",
       "75%                     NaN  3056.650000  2538.822500  2218.055500   \n",
       "max                     NaN  3356.350000  2846.440000  2315.266700   \n",
       "\n",
       "                  3            4       5            6            7  \\\n",
       "count   1553.000000  1553.000000  1553.0  1553.000000  1558.000000   \n",
       "unique          NaN          NaN     NaN          NaN          NaN   \n",
       "top             NaN          NaN     NaN          NaN          NaN   \n",
       "freq            NaN          NaN     NaN          NaN          NaN   \n",
       "mean    1396.376627     4.197013   100.0   101.112908     0.121822   \n",
       "std      441.691640    56.355540     0.0     6.237214     0.008961   \n",
       "min        0.000000     0.681500   100.0    82.131100     0.000000   \n",
       "25%     1081.875800     1.017700   100.0    97.920000     0.121100   \n",
       "50%     1285.214400     1.316800   100.0   101.512200     0.122400   \n",
       "75%     1591.223500     1.525700   100.0   104.586700     0.123800   \n",
       "max     3715.041700  1114.536600   100.0   129.252200     0.128600   \n",
       "\n",
       "                  8  ...         581          582          583          584  \\\n",
       "count   1565.000000  ...  618.000000  1566.000000  1566.000000  1566.000000   \n",
       "unique          NaN  ...         NaN          NaN          NaN          NaN   \n",
       "top             NaN  ...         NaN          NaN          NaN          NaN   \n",
       "freq            NaN  ...         NaN          NaN          NaN          NaN   \n",
       "mean       1.462862  ...   97.934373     0.500096     0.015318     0.003847   \n",
       "std        0.073897  ...   87.520966     0.003404     0.017180     0.003720   \n",
       "min        1.191000  ...    0.000000     0.477800     0.006000     0.001700   \n",
       "25%        1.411200  ...   46.184900     0.497900     0.011600     0.003100   \n",
       "50%        1.461600  ...   72.288900     0.500200     0.013800     0.003600   \n",
       "75%        1.516900  ...  116.539150     0.502375     0.016500     0.004100   \n",
       "max        1.656400  ...  737.304800     0.509800     0.476600     0.104500   \n",
       "\n",
       "                585          586          587          588          589  \\\n",
       "count   1566.000000  1566.000000  1566.000000  1566.000000  1566.000000   \n",
       "unique          NaN          NaN          NaN          NaN          NaN   \n",
       "top             NaN          NaN          NaN          NaN          NaN   \n",
       "freq            NaN          NaN          NaN          NaN          NaN   \n",
       "mean       3.067826     0.021458     0.016475     0.005283    99.670066   \n",
       "std        3.578033     0.012358     0.008808     0.002867    93.891919   \n",
       "min        1.197500    -0.016900     0.003200     0.001000     0.000000   \n",
       "25%        2.306500     0.013425     0.010600     0.003300    44.368600   \n",
       "50%        2.757650     0.020500     0.014800     0.004600    71.900500   \n",
       "75%        3.295175     0.027600     0.020300     0.006400   114.749700   \n",
       "max       99.303200     0.102800     0.079900     0.028600   737.304800   \n",
       "\n",
       "          Pass/Fail  \n",
       "count   1567.000000  \n",
       "unique          NaN  \n",
       "top             NaN  \n",
       "freq            NaN  \n",
       "mean      -0.867262  \n",
       "std        0.498010  \n",
       "min       -1.000000  \n",
       "25%       -1.000000  \n",
       "50%       -1.000000  \n",
       "75%       -1.000000  \n",
       "max        1.000000  \n",
       "\n",
       "[11 rows x 592 columns]"
      ]
     },
     "execution_count": 3,
     "metadata": {},
     "output_type": "execute_result"
    }
   ],
   "source": [
    "signal_df.describe(include='all')"
   ]
  },
  {
   "cell_type": "markdown",
   "id": "d3887995",
   "metadata": {},
   "source": [
    "#Insights\n",
    "1. Count of rows accross columns is not consistent.\n",
    "2. Some columns data has data which is in thousands and some columns data falls in range 0 to 1, which needs to be standardized\n",
    "3. Target variable is Pass/Fail.\n",
    "4. Column 4 has max 1114.53 and remaining data min, 25%, 50% and 75% of the data range is below 2 .\n",
    "5. Column 5 has std deviation of 0 where the data is same accross all rows."
   ]
  },
  {
   "cell_type": "markdown",
   "id": "3deb17e3",
   "metadata": {},
   "source": [
    "##### Q2 A -Write a for loop which will remove all the features with 20%+ Null values and impute rest with mean of the feature"
   ]
  },
  {
   "cell_type": "code",
   "execution_count": 4,
   "id": "e116147a",
   "metadata": {},
   "outputs": [],
   "source": [
    "def remove_and_impute_features(data, threshold):\n",
    "    total_rows = data.shape[0]\n",
    "    num_cols = data.shape[1]\n",
    "\n",
    "    new_data = data.copy()\n",
    "    for col in data.columns:\n",
    "        if (col != 'Time' and col!='Pass/Fail' ):\n",
    "            null_count = data[col].isnull().sum()\n",
    "            null_percentage = (null_count / total_rows) * 100.0\n",
    "\n",
    "            if null_percentage > threshold:\n",
    "                new_data.drop(col, axis=1, inplace=True)\n",
    "            else:\n",
    "                # Calculate the mean of the column and impute null values with the mean\n",
    "                mean_value = data[col].mean()\n",
    "                new_data[col].fillna(mean_value, inplace=True)\n",
    "\n",
    "    return new_data\n"
   ]
  },
  {
   "cell_type": "code",
   "execution_count": 5,
   "id": "52bcaa86",
   "metadata": {},
   "outputs": [],
   "source": [
    "# Set the threshold for null percentage (e.g., 20%)\n",
    "null_threshold = 20.0\n",
    "\n",
    "# Call the function to remove and impute features\n",
    "processed_data = remove_and_impute_features(signal_df, null_threshold)"
   ]
  },
  {
   "cell_type": "code",
   "execution_count": 6,
   "id": "e1b29678",
   "metadata": {},
   "outputs": [
    {
     "data": {
      "text/plain": [
       "(1567, 560)"
      ]
     },
     "execution_count": 6,
     "metadata": {},
     "output_type": "execute_result"
    }
   ],
   "source": [
    "processed_data.shape"
   ]
  },
  {
   "cell_type": "code",
   "execution_count": 7,
   "id": "7cf19ce4",
   "metadata": {},
   "outputs": [
    {
     "data": {
      "text/html": [
       "<div>\n",
       "<style scoped>\n",
       "    .dataframe tbody tr th:only-of-type {\n",
       "        vertical-align: middle;\n",
       "    }\n",
       "\n",
       "    .dataframe tbody tr th {\n",
       "        vertical-align: top;\n",
       "    }\n",
       "\n",
       "    .dataframe thead th {\n",
       "        text-align: right;\n",
       "    }\n",
       "</style>\n",
       "<table border=\"1\" class=\"dataframe\">\n",
       "  <thead>\n",
       "    <tr style=\"text-align: right;\">\n",
       "      <th></th>\n",
       "      <th>0</th>\n",
       "      <th>1</th>\n",
       "      <th>2</th>\n",
       "      <th>3</th>\n",
       "      <th>4</th>\n",
       "      <th>5</th>\n",
       "      <th>6</th>\n",
       "      <th>7</th>\n",
       "      <th>8</th>\n",
       "      <th>9</th>\n",
       "      <th>...</th>\n",
       "      <th>577</th>\n",
       "      <th>582</th>\n",
       "      <th>583</th>\n",
       "      <th>584</th>\n",
       "      <th>585</th>\n",
       "      <th>586</th>\n",
       "      <th>587</th>\n",
       "      <th>588</th>\n",
       "      <th>589</th>\n",
       "      <th>Pass/Fail</th>\n",
       "    </tr>\n",
       "  </thead>\n",
       "  <tbody>\n",
       "    <tr>\n",
       "      <th>count</th>\n",
       "      <td>1567.000000</td>\n",
       "      <td>1567.000000</td>\n",
       "      <td>1567.000000</td>\n",
       "      <td>1567.000000</td>\n",
       "      <td>1567.000000</td>\n",
       "      <td>1567.0</td>\n",
       "      <td>1567.000000</td>\n",
       "      <td>1567.000000</td>\n",
       "      <td>1567.000000</td>\n",
       "      <td>1567.000000</td>\n",
       "      <td>...</td>\n",
       "      <td>1567.000000</td>\n",
       "      <td>1567.000000</td>\n",
       "      <td>1567.000000</td>\n",
       "      <td>1567.000000</td>\n",
       "      <td>1567.000000</td>\n",
       "      <td>1567.000000</td>\n",
       "      <td>1567.000000</td>\n",
       "      <td>1567.000000</td>\n",
       "      <td>1567.000000</td>\n",
       "      <td>1567.000000</td>\n",
       "    </tr>\n",
       "    <tr>\n",
       "      <th>mean</th>\n",
       "      <td>3014.452896</td>\n",
       "      <td>2495.850231</td>\n",
       "      <td>2200.547318</td>\n",
       "      <td>1396.376627</td>\n",
       "      <td>4.197013</td>\n",
       "      <td>100.0</td>\n",
       "      <td>101.112908</td>\n",
       "      <td>0.121822</td>\n",
       "      <td>1.462862</td>\n",
       "      <td>-0.000841</td>\n",
       "      <td>...</td>\n",
       "      <td>16.642363</td>\n",
       "      <td>0.500096</td>\n",
       "      <td>0.015318</td>\n",
       "      <td>0.003847</td>\n",
       "      <td>3.067826</td>\n",
       "      <td>0.021458</td>\n",
       "      <td>0.016475</td>\n",
       "      <td>0.005283</td>\n",
       "      <td>99.670066</td>\n",
       "      <td>-0.867262</td>\n",
       "    </tr>\n",
       "    <tr>\n",
       "      <th>std</th>\n",
       "      <td>73.480613</td>\n",
       "      <td>80.227793</td>\n",
       "      <td>29.380932</td>\n",
       "      <td>439.712852</td>\n",
       "      <td>56.103066</td>\n",
       "      <td>0.0</td>\n",
       "      <td>6.209271</td>\n",
       "      <td>0.008936</td>\n",
       "      <td>0.073849</td>\n",
       "      <td>0.015107</td>\n",
       "      <td>...</td>\n",
       "      <td>12.485267</td>\n",
       "      <td>0.003403</td>\n",
       "      <td>0.017174</td>\n",
       "      <td>0.003719</td>\n",
       "      <td>3.576891</td>\n",
       "      <td>0.012354</td>\n",
       "      <td>0.008805</td>\n",
       "      <td>0.002866</td>\n",
       "      <td>93.861936</td>\n",
       "      <td>0.498010</td>\n",
       "    </tr>\n",
       "    <tr>\n",
       "      <th>min</th>\n",
       "      <td>2743.240000</td>\n",
       "      <td>2158.750000</td>\n",
       "      <td>2060.660000</td>\n",
       "      <td>0.000000</td>\n",
       "      <td>0.681500</td>\n",
       "      <td>100.0</td>\n",
       "      <td>82.131100</td>\n",
       "      <td>0.000000</td>\n",
       "      <td>1.191000</td>\n",
       "      <td>-0.053400</td>\n",
       "      <td>...</td>\n",
       "      <td>4.582000</td>\n",
       "      <td>0.477800</td>\n",
       "      <td>0.006000</td>\n",
       "      <td>0.001700</td>\n",
       "      <td>1.197500</td>\n",
       "      <td>-0.016900</td>\n",
       "      <td>0.003200</td>\n",
       "      <td>0.001000</td>\n",
       "      <td>0.000000</td>\n",
       "      <td>-1.000000</td>\n",
       "    </tr>\n",
       "    <tr>\n",
       "      <th>25%</th>\n",
       "      <td>2966.665000</td>\n",
       "      <td>2452.885000</td>\n",
       "      <td>2181.099950</td>\n",
       "      <td>1083.885800</td>\n",
       "      <td>1.017700</td>\n",
       "      <td>100.0</td>\n",
       "      <td>97.937800</td>\n",
       "      <td>0.121100</td>\n",
       "      <td>1.411250</td>\n",
       "      <td>-0.010800</td>\n",
       "      <td>...</td>\n",
       "      <td>11.501550</td>\n",
       "      <td>0.497900</td>\n",
       "      <td>0.011600</td>\n",
       "      <td>0.003100</td>\n",
       "      <td>2.306500</td>\n",
       "      <td>0.013450</td>\n",
       "      <td>0.010600</td>\n",
       "      <td>0.003300</td>\n",
       "      <td>44.368600</td>\n",
       "      <td>-1.000000</td>\n",
       "    </tr>\n",
       "    <tr>\n",
       "      <th>50%</th>\n",
       "      <td>3011.840000</td>\n",
       "      <td>2498.910000</td>\n",
       "      <td>2200.955600</td>\n",
       "      <td>1287.353800</td>\n",
       "      <td>1.317100</td>\n",
       "      <td>100.0</td>\n",
       "      <td>101.492200</td>\n",
       "      <td>0.122400</td>\n",
       "      <td>1.461600</td>\n",
       "      <td>-0.001300</td>\n",
       "      <td>...</td>\n",
       "      <td>13.817900</td>\n",
       "      <td>0.500200</td>\n",
       "      <td>0.013800</td>\n",
       "      <td>0.003600</td>\n",
       "      <td>2.757700</td>\n",
       "      <td>0.020500</td>\n",
       "      <td>0.014800</td>\n",
       "      <td>0.004600</td>\n",
       "      <td>72.023000</td>\n",
       "      <td>-1.000000</td>\n",
       "    </tr>\n",
       "    <tr>\n",
       "      <th>75%</th>\n",
       "      <td>3056.540000</td>\n",
       "      <td>2538.745000</td>\n",
       "      <td>2218.055500</td>\n",
       "      <td>1590.169900</td>\n",
       "      <td>1.529600</td>\n",
       "      <td>100.0</td>\n",
       "      <td>104.530000</td>\n",
       "      <td>0.123800</td>\n",
       "      <td>1.516850</td>\n",
       "      <td>0.008400</td>\n",
       "      <td>...</td>\n",
       "      <td>17.080900</td>\n",
       "      <td>0.502350</td>\n",
       "      <td>0.016500</td>\n",
       "      <td>0.004100</td>\n",
       "      <td>3.294950</td>\n",
       "      <td>0.027600</td>\n",
       "      <td>0.020300</td>\n",
       "      <td>0.006400</td>\n",
       "      <td>114.749700</td>\n",
       "      <td>-1.000000</td>\n",
       "    </tr>\n",
       "    <tr>\n",
       "      <th>max</th>\n",
       "      <td>3356.350000</td>\n",
       "      <td>2846.440000</td>\n",
       "      <td>2315.266700</td>\n",
       "      <td>3715.041700</td>\n",
       "      <td>1114.536600</td>\n",
       "      <td>100.0</td>\n",
       "      <td>129.252200</td>\n",
       "      <td>0.128600</td>\n",
       "      <td>1.656400</td>\n",
       "      <td>0.074900</td>\n",
       "      <td>...</td>\n",
       "      <td>96.960100</td>\n",
       "      <td>0.509800</td>\n",
       "      <td>0.476600</td>\n",
       "      <td>0.104500</td>\n",
       "      <td>99.303200</td>\n",
       "      <td>0.102800</td>\n",
       "      <td>0.079900</td>\n",
       "      <td>0.028600</td>\n",
       "      <td>737.304800</td>\n",
       "      <td>1.000000</td>\n",
       "    </tr>\n",
       "  </tbody>\n",
       "</table>\n",
       "<p>8 rows × 559 columns</p>\n",
       "</div>"
      ],
      "text/plain": [
       "                 0            1            2            3            4  \\\n",
       "count  1567.000000  1567.000000  1567.000000  1567.000000  1567.000000   \n",
       "mean   3014.452896  2495.850231  2200.547318  1396.376627     4.197013   \n",
       "std      73.480613    80.227793    29.380932   439.712852    56.103066   \n",
       "min    2743.240000  2158.750000  2060.660000     0.000000     0.681500   \n",
       "25%    2966.665000  2452.885000  2181.099950  1083.885800     1.017700   \n",
       "50%    3011.840000  2498.910000  2200.955600  1287.353800     1.317100   \n",
       "75%    3056.540000  2538.745000  2218.055500  1590.169900     1.529600   \n",
       "max    3356.350000  2846.440000  2315.266700  3715.041700  1114.536600   \n",
       "\n",
       "            5            6            7            8            9  ...  \\\n",
       "count  1567.0  1567.000000  1567.000000  1567.000000  1567.000000  ...   \n",
       "mean    100.0   101.112908     0.121822     1.462862    -0.000841  ...   \n",
       "std       0.0     6.209271     0.008936     0.073849     0.015107  ...   \n",
       "min     100.0    82.131100     0.000000     1.191000    -0.053400  ...   \n",
       "25%     100.0    97.937800     0.121100     1.411250    -0.010800  ...   \n",
       "50%     100.0   101.492200     0.122400     1.461600    -0.001300  ...   \n",
       "75%     100.0   104.530000     0.123800     1.516850     0.008400  ...   \n",
       "max     100.0   129.252200     0.128600     1.656400     0.074900  ...   \n",
       "\n",
       "               577          582          583          584          585  \\\n",
       "count  1567.000000  1567.000000  1567.000000  1567.000000  1567.000000   \n",
       "mean     16.642363     0.500096     0.015318     0.003847     3.067826   \n",
       "std      12.485267     0.003403     0.017174     0.003719     3.576891   \n",
       "min       4.582000     0.477800     0.006000     0.001700     1.197500   \n",
       "25%      11.501550     0.497900     0.011600     0.003100     2.306500   \n",
       "50%      13.817900     0.500200     0.013800     0.003600     2.757700   \n",
       "75%      17.080900     0.502350     0.016500     0.004100     3.294950   \n",
       "max      96.960100     0.509800     0.476600     0.104500    99.303200   \n",
       "\n",
       "               586          587          588          589    Pass/Fail  \n",
       "count  1567.000000  1567.000000  1567.000000  1567.000000  1567.000000  \n",
       "mean      0.021458     0.016475     0.005283    99.670066    -0.867262  \n",
       "std       0.012354     0.008805     0.002866    93.861936     0.498010  \n",
       "min      -0.016900     0.003200     0.001000     0.000000    -1.000000  \n",
       "25%       0.013450     0.010600     0.003300    44.368600    -1.000000  \n",
       "50%       0.020500     0.014800     0.004600    72.023000    -1.000000  \n",
       "75%       0.027600     0.020300     0.006400   114.749700    -1.000000  \n",
       "max       0.102800     0.079900     0.028600   737.304800     1.000000  \n",
       "\n",
       "[8 rows x 559 columns]"
      ]
     },
     "execution_count": 7,
     "metadata": {},
     "output_type": "execute_result"
    }
   ],
   "source": [
    "processed_data.describe()"
   ]
  },
  {
   "cell_type": "markdown",
   "id": "5725e319",
   "metadata": {},
   "source": [
    "##### Q2 B -Identify and drop the features which are having same value for all the rows."
   ]
  },
  {
   "cell_type": "code",
   "execution_count": 8,
   "id": "5c23a136",
   "metadata": {},
   "outputs": [],
   "source": [
    "def drop_constant_features(data):\n",
    "    constant_features = [col for col in data.columns if data[col].nunique() == 1]\n",
    "    data.drop(constant_features, axis=1, inplace=True)\n",
    "    return data\n",
    "\n",
    "# Call the function to drop constant features\n",
    "processed_data = drop_constant_features(processed_data)"
   ]
  },
  {
   "cell_type": "code",
   "execution_count": 9,
   "id": "6373bec7",
   "metadata": {},
   "outputs": [
    {
     "data": {
      "text/plain": [
       "(1567, 444)"
      ]
     },
     "execution_count": 9,
     "metadata": {},
     "output_type": "execute_result"
    }
   ],
   "source": [
    "processed_data.shape"
   ]
  },
  {
   "cell_type": "markdown",
   "id": "fa6a2fc9",
   "metadata": {},
   "source": [
    "##### Q2 C -Drop other features if required using relevant functional knowledge. Clearly justify the same"
   ]
  },
  {
   "cell_type": "markdown",
   "id": "db1bc7ab",
   "metadata": {},
   "source": [
    "###### 1. Drop Low Variance or Constant Features:"
   ]
  },
  {
   "cell_type": "code",
   "execution_count": 10,
   "id": "ccf7d2e4",
   "metadata": {},
   "outputs": [
    {
     "name": "stdout",
     "output_type": "stream",
     "text": [
      "Features with low variance:\n",
      "['7', '9', '10', '11', '17', '20', '56', '57', '75', '77', '79', '81', '84', '87', '92', '93', '94', '95', '100', '101', '103', '104', '105', '106', '113', '114', '116', '118', '119', '131', '143', '145', '146', '147', '153', '211', '212', '215', '216', '219', '221', '227', '228', '238', '239', '249', '253', '254', '267', '278', '279', '280', '281', '282', '288', '291', '303', '306', '307', '309', '311', '342', '348', '349', '350', '351', '352', '353', '354', '355', '357', '359', '360', '362', '365', '366', '367', '368', '376', '377', '386', '387', '389', '391', '392', '405', '542', '543', '544', '567', '582', '583', '584', '586', '587', '588']\n",
      "Count of Features with low variance:\n",
      "96\n"
     ]
    },
    {
     "name": "stderr",
     "output_type": "stream",
     "text": [
      "C:\\Users\\seshabhattark\\AppData\\Local\\Temp\\ipykernel_46880\\3266182785.py:3: FutureWarning: The default value of numeric_only in DataFrame.var is deprecated. In a future version, it will default to False. In addition, specifying 'numeric_only=None' is deprecated. Select only valid columns or specify the value of numeric_only to silence this warning.\n",
      "  variances = data.var()\n"
     ]
    },
    {
     "data": {
      "text/html": [
       "<div>\n",
       "<style scoped>\n",
       "    .dataframe tbody tr th:only-of-type {\n",
       "        vertical-align: middle;\n",
       "    }\n",
       "\n",
       "    .dataframe tbody tr th {\n",
       "        vertical-align: top;\n",
       "    }\n",
       "\n",
       "    .dataframe thead th {\n",
       "        text-align: right;\n",
       "    }\n",
       "</style>\n",
       "<table border=\"1\" class=\"dataframe\">\n",
       "  <thead>\n",
       "    <tr style=\"text-align: right;\">\n",
       "      <th></th>\n",
       "      <th>Time</th>\n",
       "      <th>0</th>\n",
       "      <th>1</th>\n",
       "      <th>2</th>\n",
       "      <th>3</th>\n",
       "      <th>4</th>\n",
       "      <th>6</th>\n",
       "      <th>8</th>\n",
       "      <th>12</th>\n",
       "      <th>14</th>\n",
       "      <th>...</th>\n",
       "      <th>571</th>\n",
       "      <th>572</th>\n",
       "      <th>573</th>\n",
       "      <th>574</th>\n",
       "      <th>575</th>\n",
       "      <th>576</th>\n",
       "      <th>577</th>\n",
       "      <th>585</th>\n",
       "      <th>589</th>\n",
       "      <th>Pass/Fail</th>\n",
       "    </tr>\n",
       "  </thead>\n",
       "  <tbody>\n",
       "    <tr>\n",
       "      <th>0</th>\n",
       "      <td>2008-07-19 11:55:00</td>\n",
       "      <td>3030.93</td>\n",
       "      <td>2564.00</td>\n",
       "      <td>2187.7333</td>\n",
       "      <td>1411.1265</td>\n",
       "      <td>1.3602</td>\n",
       "      <td>97.6133</td>\n",
       "      <td>1.5005</td>\n",
       "      <td>202.4396</td>\n",
       "      <td>7.9558</td>\n",
       "      <td>...</td>\n",
       "      <td>2.1113</td>\n",
       "      <td>8.95</td>\n",
       "      <td>0.3157</td>\n",
       "      <td>3.0624</td>\n",
       "      <td>0.1026</td>\n",
       "      <td>1.6765</td>\n",
       "      <td>14.9509</td>\n",
       "      <td>2.3630</td>\n",
       "      <td>99.670066</td>\n",
       "      <td>-1</td>\n",
       "    </tr>\n",
       "    <tr>\n",
       "      <th>1</th>\n",
       "      <td>2008-07-19 12:32:00</td>\n",
       "      <td>3095.78</td>\n",
       "      <td>2465.14</td>\n",
       "      <td>2230.4222</td>\n",
       "      <td>1463.6606</td>\n",
       "      <td>0.8294</td>\n",
       "      <td>102.3433</td>\n",
       "      <td>1.4966</td>\n",
       "      <td>200.5470</td>\n",
       "      <td>10.1548</td>\n",
       "      <td>...</td>\n",
       "      <td>2.4335</td>\n",
       "      <td>5.92</td>\n",
       "      <td>0.2653</td>\n",
       "      <td>2.0111</td>\n",
       "      <td>0.0772</td>\n",
       "      <td>1.1065</td>\n",
       "      <td>10.9003</td>\n",
       "      <td>4.4447</td>\n",
       "      <td>208.204500</td>\n",
       "      <td>-1</td>\n",
       "    </tr>\n",
       "    <tr>\n",
       "      <th>2</th>\n",
       "      <td>2008-07-19 13:17:00</td>\n",
       "      <td>2932.61</td>\n",
       "      <td>2559.94</td>\n",
       "      <td>2186.4111</td>\n",
       "      <td>1698.0172</td>\n",
       "      <td>1.5102</td>\n",
       "      <td>95.4878</td>\n",
       "      <td>1.4436</td>\n",
       "      <td>202.0179</td>\n",
       "      <td>9.5157</td>\n",
       "      <td>...</td>\n",
       "      <td>2.0293</td>\n",
       "      <td>11.21</td>\n",
       "      <td>0.1882</td>\n",
       "      <td>4.0923</td>\n",
       "      <td>0.0640</td>\n",
       "      <td>2.0952</td>\n",
       "      <td>9.2721</td>\n",
       "      <td>3.1745</td>\n",
       "      <td>82.860200</td>\n",
       "      <td>1</td>\n",
       "    </tr>\n",
       "    <tr>\n",
       "      <th>3</th>\n",
       "      <td>2008-07-19 14:43:00</td>\n",
       "      <td>2988.72</td>\n",
       "      <td>2479.90</td>\n",
       "      <td>2199.0333</td>\n",
       "      <td>909.7926</td>\n",
       "      <td>1.3204</td>\n",
       "      <td>104.2367</td>\n",
       "      <td>1.4882</td>\n",
       "      <td>201.8482</td>\n",
       "      <td>9.6052</td>\n",
       "      <td>...</td>\n",
       "      <td>2.0253</td>\n",
       "      <td>9.33</td>\n",
       "      <td>0.1738</td>\n",
       "      <td>2.8971</td>\n",
       "      <td>0.0525</td>\n",
       "      <td>1.7585</td>\n",
       "      <td>8.5831</td>\n",
       "      <td>2.0544</td>\n",
       "      <td>73.843200</td>\n",
       "      <td>-1</td>\n",
       "    </tr>\n",
       "    <tr>\n",
       "      <th>4</th>\n",
       "      <td>2008-07-19 15:22:00</td>\n",
       "      <td>3032.24</td>\n",
       "      <td>2502.87</td>\n",
       "      <td>2233.3667</td>\n",
       "      <td>1326.5200</td>\n",
       "      <td>1.5334</td>\n",
       "      <td>100.3967</td>\n",
       "      <td>1.5031</td>\n",
       "      <td>201.9424</td>\n",
       "      <td>10.5661</td>\n",
       "      <td>...</td>\n",
       "      <td>2.0275</td>\n",
       "      <td>8.83</td>\n",
       "      <td>0.2224</td>\n",
       "      <td>3.1776</td>\n",
       "      <td>0.0706</td>\n",
       "      <td>1.6597</td>\n",
       "      <td>10.9698</td>\n",
       "      <td>99.3032</td>\n",
       "      <td>73.843200</td>\n",
       "      <td>-1</td>\n",
       "    </tr>\n",
       "  </tbody>\n",
       "</table>\n",
       "<p>5 rows × 348 columns</p>\n",
       "</div>"
      ],
      "text/plain": [
       "                  Time        0        1          2          3       4  \\\n",
       "0  2008-07-19 11:55:00  3030.93  2564.00  2187.7333  1411.1265  1.3602   \n",
       "1  2008-07-19 12:32:00  3095.78  2465.14  2230.4222  1463.6606  0.8294   \n",
       "2  2008-07-19 13:17:00  2932.61  2559.94  2186.4111  1698.0172  1.5102   \n",
       "3  2008-07-19 14:43:00  2988.72  2479.90  2199.0333   909.7926  1.3204   \n",
       "4  2008-07-19 15:22:00  3032.24  2502.87  2233.3667  1326.5200  1.5334   \n",
       "\n",
       "          6       8        12       14  ...     571    572     573     574  \\\n",
       "0   97.6133  1.5005  202.4396   7.9558  ...  2.1113   8.95  0.3157  3.0624   \n",
       "1  102.3433  1.4966  200.5470  10.1548  ...  2.4335   5.92  0.2653  2.0111   \n",
       "2   95.4878  1.4436  202.0179   9.5157  ...  2.0293  11.21  0.1882  4.0923   \n",
       "3  104.2367  1.4882  201.8482   9.6052  ...  2.0253   9.33  0.1738  2.8971   \n",
       "4  100.3967  1.5031  201.9424  10.5661  ...  2.0275   8.83  0.2224  3.1776   \n",
       "\n",
       "      575     576      577      585         589  Pass/Fail  \n",
       "0  0.1026  1.6765  14.9509   2.3630   99.670066         -1  \n",
       "1  0.0772  1.1065  10.9003   4.4447  208.204500         -1  \n",
       "2  0.0640  2.0952   9.2721   3.1745   82.860200          1  \n",
       "3  0.0525  1.7585   8.5831   2.0544   73.843200         -1  \n",
       "4  0.0706  1.6597  10.9698  99.3032   73.843200         -1  \n",
       "\n",
       "[5 rows x 348 columns]"
      ]
     },
     "execution_count": 10,
     "metadata": {},
     "output_type": "execute_result"
    }
   ],
   "source": [
    "def find_low_variance_features(data, threshold=0.01):\n",
    "    # Calculate the variance for each column\n",
    "    variances = data.var()\n",
    "\n",
    "    # Filter features with variance below the threshold\n",
    "    low_variance_features = variances[variances < threshold]\n",
    "\n",
    "    return low_variance_features.index.tolist()\n",
    "\n",
    "# Set the threshold for low variance (0.001)\n",
    "variance_threshold = 0.001\n",
    "\n",
    "# Call the function to find features with low variance\n",
    "low_variance_features = find_low_variance_features(processed_data, variance_threshold)\n",
    "\n",
    "print(\"Features with low variance:\")\n",
    "print(low_variance_features)\n",
    "print(\"Count of Features with low variance:\")\n",
    "print(len(low_variance_features))\n",
    "\n",
    "processed_data.drop(low_variance_features, axis=1, inplace=True)\n",
    "processed_data.head()"
   ]
  },
  {
   "cell_type": "markdown",
   "id": "50a8168e",
   "metadata": {},
   "source": [
    "Dropped the columns where the standard deviation is below 0.001 as there willnot be much change in the data across rows which is same data having the same data across rows. This will remove the noise introduced in the dataset."
   ]
  },
  {
   "cell_type": "markdown",
   "id": "d6606c31",
   "metadata": {},
   "source": [
    "#### Q2 D -Check for multi-collinearity in the data and take necessary action."
   ]
  },
  {
   "cell_type": "code",
   "execution_count": 11,
   "id": "3488c2e9",
   "metadata": {},
   "outputs": [
    {
     "name": "stderr",
     "output_type": "stream",
     "text": [
      "C:\\Users\\seshabhattark\\AppData\\Local\\Temp\\ipykernel_46880\\2926533673.py:2: FutureWarning: The default value of numeric_only in DataFrame.corr is deprecated. In a future version, it will default to False. Select only valid columns or specify the value of numeric_only to silence this warning.\n",
      "  correlation_matrix = processed_data.corr()\n"
     ]
    },
    {
     "name": "stdout",
     "output_type": "stream",
     "text": [
      "Highly correlated pairs count: 262\n",
      "\n",
      "Original DataFrame:\n",
      "(1567, 348)\n",
      "\n",
      "DataFrame after dropping highly correlated columns:\n",
      "(1567, 206)\n"
     ]
    }
   ],
   "source": [
    "# Calculate the correlation matrix\n",
    "correlation_matrix = processed_data.corr()\n",
    "\n",
    "# Find highly correlated pairs\n",
    "threshold = 0.9  # Define your threshold for high correlation\n",
    "highly_correlated_pairs = []\n",
    "\n",
    "for i in range(len(correlation_matrix.columns)):\n",
    "    for j in range(i + 1, len(correlation_matrix.columns)):\n",
    "        if abs(correlation_matrix.iloc[i, j]) > threshold:\n",
    "            highly_correlated_pairs.append((correlation_matrix.columns[i], correlation_matrix.columns[j]))\n",
    "\n",
    "print(\"Highly correlated pairs count:\",len(highly_correlated_pairs))\n",
    "\n",
    "# Drop one column from each highly correlated pair\n",
    "columns_to_drop = set()\n",
    "for pair in highly_correlated_pairs:\n",
    "    columns_to_drop.add(pair[1])\n",
    "\n",
    "processed_data_cleaned = processed_data.drop(columns=columns_to_drop)\n",
    "\n",
    "print(\"\\nOriginal DataFrame:\")\n",
    "print(processed_data.shape)\n",
    "\n",
    "print(\"\\nDataFrame after dropping highly correlated columns:\")\n",
    "print(processed_data_cleaned.shape)"
   ]
  },
  {
   "cell_type": "markdown",
   "id": "cffdaa24",
   "metadata": {},
   "source": [
    "#### Q2 E -Make all relevant modifications on the data using both functional/logical reasoning/assumptions."
   ]
  },
  {
   "cell_type": "markdown",
   "id": "b8430a24",
   "metadata": {},
   "source": [
    "1. Dropped the columns with the same data accross all rows. Remove features with low variance as they may not provide meaningful information and might even introduce noise into the model.\n",
    "2. Dropped the columns where the standard deviation(low variance) is below 0.001 as there willnot be much change in the data accross columns which is same data having the same data accross rows. Remove features with low variance as they may not provide meaningful information and might even introduce noise into the model.\n",
    "3. When multicollinearity is detected, it's important to address it. Options include removing one of the correlated features, combining correlated features into new features, or using techniques like ridge regression that can handle multicollinearity to some extent.\n",
    "\n",
    "Both low variance and multicollinearity can lead to suboptimal model performance, so it's important to preprocess data and perform feature engineering to address these issues before training models."
   ]
  },
  {
   "cell_type": "markdown",
   "id": "16929ef2",
   "metadata": {},
   "source": [
    "#### Q3 A -Perform a detailed univariate Analysis with appropriate detailed comments after each analysis"
   ]
  },
  {
   "cell_type": "code",
   "execution_count": 12,
   "id": "52a73600",
   "metadata": {},
   "outputs": [
    {
     "data": {
      "text/plain": [
       "<Axes: xlabel='Pass/Fail', ylabel='Count'>"
      ]
     },
     "execution_count": 12,
     "metadata": {},
     "output_type": "execute_result"
    },
    {
     "data": {
      "image/png": "[encoded data removed]",
      "text/plain": [
       "<Figure size 640x480 with 1 Axes>"
      ]
     },
     "metadata": {},
     "output_type": "display_data"
    }
   ],
   "source": [
    "sns.histplot(processed_data_cleaned,x='Pass/Fail')"
   ]
  },
  {
   "cell_type": "markdown",
   "id": "03eb1c41",
   "metadata": {},
   "source": [
    "##### Insights\n",
    "The count of fail is very high when compared to the count of pass which shows minority data for Pass(1)"
   ]
  },
  {
   "cell_type": "code",
   "execution_count": 13,
   "id": "0991f224",
   "metadata": {},
   "outputs": [
    {
     "data": {
      "text/plain": [
       "<Axes: xlabel='12', ylabel='Density'>"
      ]
     },
     "execution_count": 13,
     "metadata": {},
     "output_type": "execute_result"
    },
    {
     "data": {
      "image/png": "[encoded data removed]",
      "text/plain": [
       "<Figure size 640x480 with 1 Axes>"
      ]
     },
     "metadata": {},
     "output_type": "display_data"
    }
   ],
   "source": [
    "sns.kdeplot(processed_data_cleaned,x='12',hue='Pass/Fail')"
   ]
  },
  {
   "cell_type": "markdown",
   "id": "852a81d6",
   "metadata": {},
   "source": [
    "##### Insights\n",
    "For row 12 the count of Pass is very less compared to the count of Fail. There are 2 peaks for -1 and 1 peak for 1."
   ]
  },
  {
   "cell_type": "code",
   "execution_count": 14,
   "id": "420f3216",
   "metadata": {},
   "outputs": [
    {
     "data": {
      "text/plain": [
       "<Axes: xlabel='Pass/Fail', ylabel='3'>"
      ]
     },
     "execution_count": 14,
     "metadata": {},
     "output_type": "execute_result"
    },
    {
     "data": {
      "image/png": "[encoded data removed]",
      "text/plain": [
       "<Figure size 640x480 with 1 Axes>"
      ]
     },
     "metadata": {},
     "output_type": "display_data"
    }
   ],
   "source": [
    "sns.barplot(processed_data_cleaned,y='3',x='Pass/Fail')"
   ]
  },
  {
   "cell_type": "markdown",
   "id": "6b555ee9",
   "metadata": {},
   "source": [
    "Shorter Line: The shorter line indicates the lower bound of the confidence interval around the mean.\n",
    "\n",
    "Longer Line: The longer line indicates the upper bound of the confidence interval around the mean.\n",
    "\n",
    "This representation shows the level of uncertainty in the mean estimate. The longer the error bars, the wider the confidence interval, indicating higher uncertainty in the precise location of the true population mean."
   ]
  },
  {
   "cell_type": "markdown",
   "id": "2764cd1e",
   "metadata": {},
   "source": [
    "#### Q3 B -Perform bivariate and multivariate analysis with appropriate detailed comments after each analysis."
   ]
  },
  {
   "cell_type": "code",
   "execution_count": 15,
   "id": "7ca47f69",
   "metadata": {},
   "outputs": [
    {
     "data": {
      "text/plain": [
       "<Axes: xlabel='572', ylabel='0'>"
      ]
     },
     "execution_count": 15,
     "metadata": {},
     "output_type": "execute_result"
    },
    {
     "data": {
      "image/png": "[encoded data removed]",
      "text/plain": [
       "<Figure size 640x480 with 1 Axes>"
      ]
     },
     "metadata": {},
     "output_type": "display_data"
    }
   ],
   "source": [
    "sns.scatterplot(data=processed_data_cleaned,x='572',y='0' )"
   ]
  },
  {
   "cell_type": "markdown",
   "id": "da3573d7",
   "metadata": {},
   "source": [
    "Duplicate data points (or very similar points) along a X axis, vertical lines in the scatter plot. This can happen when multiple data points share the same x-coordinate but have different y-coordinates."
   ]
  },
  {
   "cell_type": "code",
   "execution_count": 16,
   "id": "c4c4f48e",
   "metadata": {},
   "outputs": [
    {
     "data": {
      "text/plain": [
       "<Axes: xlabel='Pass/Fail', ylabel='1'>"
      ]
     },
     "execution_count": 16,
     "metadata": {},
     "output_type": "execute_result"
    },
    {
     "data": {
      "image/png": "[encoded data removed]",
      "text/plain": [
       "<Figure size 640x480 with 1 Axes>"
      ]
     },
     "metadata": {},
     "output_type": "display_data"
    }
   ],
   "source": [
    "sns.boxplot(data= processed_data_cleaned,y='1',x='Pass/Fail')\n"
   ]
  },
  {
   "cell_type": "markdown",
   "id": "6f6605f0",
   "metadata": {},
   "source": [
    "Boxplot shows the many outliers for the Fail scenario(-1) for column 1. The median is matching for Pass and Fail but the 75% of Pass is slightly less range which shows its skewness."
   ]
  },
  {
   "cell_type": "code",
   "execution_count": 17,
   "id": "4f8d0168",
   "metadata": {},
   "outputs": [
    {
     "data": {
      "text/plain": [
       "<Axes: >"
      ]
     },
     "execution_count": 17,
     "metadata": {},
     "output_type": "execute_result"
    },
    {
     "data": {
      "image/png": "[encoded data removed]",
      "text/plain": [
       "<Figure size 1500x600 with 2 Axes>"
      ]
     },
     "metadata": {},
     "output_type": "display_data"
    }
   ],
   "source": [
    "plt.figure(figsize=(15, 6))  # Adjust width and height as needed\n",
    "sns.heatmap(processed_data_cleaned.drop(\"Time\",axis=1),cmap=\"YlGnBu\")"
   ]
  },
  {
   "cell_type": "markdown",
   "id": "c18e6106",
   "metadata": {},
   "source": [
    "Maximum data falls in the green range\n",
    "Some Columns between 19 and 24 have negative data which depicts yellow color\n",
    "Columns between 88 and 96 have data closer to 10000 which depicts blue color line"
   ]
  },
  {
   "cell_type": "markdown",
   "id": "a674f6fc",
   "metadata": {},
   "source": [
    "#### Q4 A -Segregate predictors vs target attributes"
   ]
  },
  {
   "cell_type": "code",
   "execution_count": 18,
   "id": "a8f2d48d",
   "metadata": {},
   "outputs": [],
   "source": [
    "X = processed_data_cleaned.drop(columns=['Pass/Fail','Time'])  # Drop 'Pass/Fail','Time' columns\n",
    "y = processed_data_cleaned['Pass/Fail'] #Target column"
   ]
  },
  {
   "cell_type": "markdown",
   "id": "c84e1e70",
   "metadata": {},
   "source": [
    "#### Q4 B -Check for target balancing and fix it if found imbalanced."
   ]
  },
  {
   "cell_type": "code",
   "execution_count": 19,
   "id": "349e1181",
   "metadata": {},
   "outputs": [
    {
     "data": {
      "text/plain": [
       "-1    1463\n",
       " 1     104\n",
       "Name: Pass/Fail, dtype: int64"
      ]
     },
     "execution_count": 19,
     "metadata": {},
     "output_type": "execute_result"
    }
   ],
   "source": [
    "y.value_counts()"
   ]
  },
  {
   "cell_type": "code",
   "execution_count": 20,
   "id": "8fc4ea07",
   "metadata": {},
   "outputs": [
    {
     "name": "stdout",
     "output_type": "stream",
     "text": [
      "Class Counts after Oversampling:\n",
      "-1    1463\n",
      " 1    1463\n",
      "Name: Pass/Fail, dtype: int64\n"
     ]
    }
   ],
   "source": [
    "# Perform oversampling\n",
    "oversampler = RandomOverSampler(random_state=42)\n",
    "X_resampled, y_resampled = oversampler.fit_resample(X, y)\n",
    "    \n",
    "print(\"Class Counts after Oversampling:\")\n",
    "print(pd.Series(y_resampled).value_counts())"
   ]
  },
  {
   "cell_type": "markdown",
   "id": "faf6776f",
   "metadata": {},
   "source": [
    "#### Q4 C -Perform train-test split and standardize the data or vice versa if required"
   ]
  },
  {
   "cell_type": "code",
   "execution_count": 21,
   "id": "254b382d",
   "metadata": {},
   "outputs": [],
   "source": [
    "# Perform train-test split\n",
    "X_train, X_test, y_train, y_test = train_test_split(X_resampled, y_resampled, test_size=0.2, random_state=42)\n",
    "\n",
    "# Standardize the data\n",
    "scaler = StandardScaler()\n",
    "X_train_scaled = scaler.fit_transform(X_train)\n",
    "X_test_scaled = scaler.transform(X_test)"
   ]
  },
  {
   "cell_type": "markdown",
   "id": "3667d484",
   "metadata": {},
   "source": [
    "#### Q4 D -Check if the train and test data have similar statistical characteristics when compared with original data"
   ]
  },
  {
   "cell_type": "code",
   "execution_count": 22,
   "id": "aaf4285b",
   "metadata": {},
   "outputs": [
    {
     "name": "stdout",
     "output_type": "stream",
     "text": [
      "Original Data Statistics:\n",
      "                 0            1            2            3            4  \\\n",
      "count  1567.000000  1567.000000  1567.000000  1567.000000  1567.000000   \n",
      "mean   3014.452896  2495.850231  2200.547318  1396.376627     4.197013   \n",
      "std      73.480613    80.227793    29.380932   439.712852    56.103066   \n",
      "min    2743.240000  2158.750000  2060.660000     0.000000     0.681500   \n",
      "25%    2966.665000  2452.885000  2181.099950  1083.885800     1.017700   \n",
      "50%    3011.840000  2498.910000  2200.955600  1287.353800     1.317100   \n",
      "75%    3056.540000  2538.745000  2218.055500  1590.169900     1.529600   \n",
      "max    3356.350000  2846.440000  2315.266700  3715.041700  1114.536600   \n",
      "\n",
      "                 6            8           12           14           15  ...  \\\n",
      "count  1567.000000  1567.000000  1567.000000  1567.000000  1567.000000  ...   \n",
      "mean    101.112908     1.462862   199.956809     9.005371   413.086035  ...   \n",
      "std       6.209271     0.073849     3.255195     2.793916    17.204591  ...   \n",
      "min      82.131100     1.191000   182.094000     2.249300   333.448600  ...   \n",
      "25%      97.937800     1.411250   198.130950     7.096750   406.131000  ...   \n",
      "50%     101.492200     1.461600   199.537100     8.973900   412.262900  ...   \n",
      "75%     104.530000     1.516850   202.006750    10.858700   419.082800  ...   \n",
      "max     129.252200     1.656400   272.045100    19.546500   824.927100  ...   \n",
      "\n",
      "               562          563          564          565          570  \\\n",
      "count  1567.000000  1567.000000  1567.000000  1567.000000  1567.000000   \n",
      "mean    262.729683     0.679641     6.444985     0.145610   530.523623   \n",
      "std       6.933639     0.110637     2.393043     0.073713    17.499736   \n",
      "min     242.286000     0.304900     0.970000     0.022400   317.196400   \n",
      "25%     262.101000     0.567100     4.980000     0.087700   530.702700   \n",
      "50%     264.272000     0.679641     6.290000     0.142800   532.398200   \n",
      "75%     264.733000     0.738250     7.310000     0.166850   534.356400   \n",
      "max     311.404000     1.298800    32.580000     0.689200   589.508200   \n",
      "\n",
      "               571          572          573          585          589  \n",
      "count  1567.000000  1567.000000  1567.000000  1567.000000  1567.000000  \n",
      "mean      2.101836    28.450165     0.345636     3.067826    99.670066  \n",
      "std       0.275112    86.304681     0.248478     3.576891    93.861936  \n",
      "min       0.980200     3.540000     0.066700     1.197500     0.000000  \n",
      "25%       1.982900     7.500000     0.242250     2.306500    44.368600  \n",
      "50%       2.118600     8.650000     0.293400     2.757700    72.023000  \n",
      "75%       2.290650    10.130000     0.366900     3.294950   114.749700  \n",
      "max       2.739500   454.560000     2.196700    99.303200   737.304800  \n",
      "\n",
      "[8 rows x 204 columns]\n",
      "\n",
      "Train Data Statistics:\n",
      "                  0             1             2             3             4  \\\n",
      "count  2.340000e+03  2.340000e+03  2.340000e+03  2.340000e+03  2.340000e+03   \n",
      "mean   7.242070e-16 -2.758667e-15  5.133216e-15  2.049643e-16  3.036507e-18   \n",
      "std    1.000214e+00  1.000214e+00  1.000214e+00  1.000214e+00  1.000214e+00   \n",
      "min   -3.283726e+00 -4.539301e+00 -4.467522e+00 -1.632420e+00 -5.212459e-02   \n",
      "25%   -6.949418e-01 -5.293040e-01 -7.399837e-01 -7.481589e-01 -4.360489e-02   \n",
      "50%   -1.314723e-01  2.746147e-02 -6.832852e-02 -2.403888e-01 -3.632203e-02   \n",
      "75%    5.357974e-01  5.198045e-01  5.550758e-01  4.947610e-01 -3.120116e-02   \n",
      "max    4.232183e+00  4.671237e+00  3.707067e+00  5.853828e+00  2.794940e+01   \n",
      "\n",
      "                  6             8            12            14            15  \\\n",
      "count  2.340000e+03  2.340000e+03  2.340000e+03  2.340000e+03  2.340000e+03   \n",
      "mean  -2.634170e-16 -2.095949e-15 -3.087748e-15 -6.224840e-17 -1.811277e-15   \n",
      "std    1.000214e+00  1.000214e+00  1.000214e+00  1.000214e+00  1.000214e+00   \n",
      "min   -3.401554e+00 -4.107925e+00 -5.862521e+00 -2.297485e+00 -1.627087e+00   \n",
      "25%   -4.542916e-01 -6.574811e-01 -5.625519e-01 -7.415060e-01 -4.405358e-01   \n",
      "50%    5.141556e-02  1.385197e-02 -8.891933e-02  5.217513e-02 -2.467526e-02   \n",
      "75%    5.274636e-01  6.918835e-01  6.594076e-01  6.916781e-01  3.781399e-01   \n",
      "max    4.927227e+00  2.782543e+00  2.364965e+01  3.869353e+00  2.833843e+01   \n",
      "\n",
      "       ...           562           563           564           565  \\\n",
      "count  ...  2.340000e+03  2.340000e+03  2.340000e+03  2.340000e+03   \n",
      "mean   ...  4.620805e-15  1.518254e-17  2.732857e-17  1.396793e-16   \n",
      "std    ...  1.000214e+00  1.000214e+00  1.000214e+00  1.000214e+00   \n",
      "min    ... -2.771781e+00 -3.408470e+00 -2.326609e+00 -1.484924e+00   \n",
      "25%    ... -5.471086e-02 -1.126368e+00 -6.300264e-01 -7.247779e-01   \n",
      "50%    ...  1.940433e-01  5.012970e-02 -1.020911e-02 -5.066329e-02   \n",
      "75%    ...  2.912880e-01  4.550567e-01  4.192317e-01  2.053243e-01   \n",
      "max    ...  6.857674e+00  6.522803e+00  5.559750e+00  6.277181e+00   \n",
      "\n",
      "                570           571           572           573           585  \\\n",
      "count  2.340000e+03  2.340000e+03  2.340000e+03  2.340000e+03  2.340000e+03   \n",
      "mean  -2.395045e-15  5.298705e-16 -3.036507e-17 -1.761174e-16 -6.073015e-18   \n",
      "std    1.000214e+00  1.000214e+00  1.000214e+00  1.000214e+00  1.000214e+00   \n",
      "min   -1.165546e+01 -3.532836e+00 -2.683100e-01 -1.257400e+00 -6.367225e-01   \n",
      "25%    1.423265e-02 -3.614366e-01 -2.142616e-01 -4.877769e-01 -2.811941e-01   \n",
      "50%    8.635157e-02  1.519708e-01 -1.978091e-01 -1.800265e-01 -1.287831e-01   \n",
      "75%    2.091978e-01  6.504829e-01 -1.771141e-01  1.899656e-01  6.740466e-02   \n",
      "max    3.070696e+00  2.042704e+00  5.954258e+00  9.264404e+00  3.120567e+01   \n",
      "\n",
      "                589  \n",
      "count  2.340000e+03  \n",
      "mean   1.594166e-17  \n",
      "std    1.000214e+00  \n",
      "min   -1.157266e+00  \n",
      "25%   -6.335704e-01  \n",
      "50%   -2.758201e-01  \n",
      "75%    2.057284e-01  \n",
      "max    7.342704e+00  \n",
      "\n",
      "[8 rows x 204 columns]\n",
      "\n",
      "Test Data Statistics:\n",
      "                0           1           2           3           4           6  \\\n",
      "count  586.000000  586.000000  586.000000  586.000000  586.000000  586.000000   \n",
      "mean    -0.052483   -0.056001   -0.028010    0.029313    0.011364   -0.067524   \n",
      "std      0.977114    1.041659    0.902128    0.950948    1.153968    0.962297   \n",
      "min     -2.741280   -3.250316   -2.406771   -3.404353   -0.052125   -3.381122   \n",
      "25%     -0.650412   -0.648506   -0.721880   -0.689567   -0.043021   -0.558677   \n",
      "50%     -0.184981    0.020430   -0.098295   -0.167588   -0.036322   -0.040301   \n",
      "75%      0.424152    0.519804    0.565243    0.503070   -0.031226    0.478963   \n",
      "max      4.030896    4.577750    3.707067    4.284656   27.897519    3.897148   \n",
      "\n",
      "                8          12          14          15  ...         562  \\\n",
      "count  586.000000  586.000000  586.000000  586.000000  ...  586.000000   \n",
      "mean     0.015693   -0.092530   -0.044509   -0.044651  ...    0.021096   \n",
      "std      1.006690    0.830741    0.983277    0.603289  ...    1.015513   \n",
      "min     -3.966513   -2.866720   -2.021430   -5.481915  ...   -2.771781   \n",
      "25%     -0.619895   -0.549018   -0.756257   -0.440536  ...   -0.066205   \n",
      "50%      0.014596   -0.183639   -0.023746   -0.079465  ...    0.275127   \n",
      "75%      0.711607    0.565639    0.618190    0.331612  ...    0.299926   \n",
      "max      2.819756    2.844692    3.625527    2.432819  ...    5.215938   \n",
      "\n",
      "              563         564         565         570         571         572  \\\n",
      "count  586.000000  586.000000  586.000000  586.000000  586.000000  586.000000   \n",
      "mean     0.042880   -0.006139    0.007419   -0.015643   -0.058514    0.031564   \n",
      "std      1.097304    1.151027    0.940229    1.052078    1.075209    1.069074   \n",
      "min     -3.867399   -2.271608   -1.452330  -11.655460   -3.518575   -0.250374   \n",
      "25%     -1.007193   -0.630026   -0.724778    0.005350   -0.384572   -0.217400   \n",
      "50%      0.050130   -0.105397   -0.050663    0.095909    0.128360   -0.197533   \n",
      "75%      0.568221    0.428751    0.206197    0.206382    0.685344   -0.177011   \n",
      "max      5.755481   11.047201    5.493753    3.212308    1.840194    5.926388   \n",
      "\n",
      "              573         585         589  \n",
      "count  586.000000  586.000000  586.000000  \n",
      "mean     0.015791   -0.067992    0.068951  \n",
      "std      0.986591    0.346809    1.123501  \n",
      "min     -1.257400   -0.565089   -1.157266  \n",
      "25%     -0.478762   -0.282517   -0.614588  \n",
      "50%     -0.191882   -0.128783   -0.286780  \n",
      "75%      0.259493    0.026898    0.340423  \n",
      "max      9.264404    1.950184    5.519792  \n",
      "\n",
      "[8 rows x 204 columns]\n",
      "Percentage Change in Train Data:\n",
      "                0           1           2           3           4           6  \\\n",
      "count   49.329930   49.329930   49.329930   49.329930   49.329930   49.329930   \n",
      "mean  -100.000000 -100.000000 -100.000000 -100.000000 -100.000000 -100.000000   \n",
      "std    -98.638806  -98.753283  -96.595705  -99.772530  -98.217185  -83.891607   \n",
      "min   -100.119702 -100.210275 -100.216801        -inf -107.648509 -104.141615   \n",
      "25%   -100.023425 -100.021579 -100.033927 -100.069026 -104.284650 -100.463857   \n",
      "50%   -100.004365  -99.998901 -100.003104 -100.018673 -102.757728  -99.949340   \n",
      "75%    -99.982470  -99.979525  -99.974975  -99.968886 -102.039825  -99.495395   \n",
      "max    -99.873905  -99.835892  -99.839886  -99.842429  -97.492285  -96.187897   \n",
      "\n",
      "                 8          12          14          15  ...         562  \\\n",
      "count    49.329930   49.329930   49.329930   49.329930  ...   49.329930   \n",
      "mean   -100.000000 -100.000000 -100.000000 -100.000000  ... -100.000000   \n",
      "std    1254.397338  -69.273308  -64.200287  -94.186356  ...  -85.574476   \n",
      "min    -444.913922 -103.219503 -202.142234 -100.487957  ... -101.144012   \n",
      "25%    -146.588565 -100.283929 -110.448529 -100.108471  ... -100.020874   \n",
      "50%     -99.052274 -100.044563  -99.418590 -100.005985  ...  -99.926574   \n",
      "75%     -54.386821  -99.673572  -93.630194  -99.909770  ...  -99.889969   \n",
      "max      67.987368  -91.306718  -80.204370  -96.564735  ...  -97.797821   \n",
      "\n",
      "               563         564          565         570         571  \\\n",
      "count    49.329930   49.329930    49.329930   49.329930   49.329930   \n",
      "mean   -100.000000 -100.000000  -100.000000 -100.000000 -100.000000   \n",
      "std     804.050685  -58.203263  1256.903261  -94.284407  263.566224   \n",
      "min   -1217.897551 -339.856605 -6729.125331 -103.674525 -460.419917   \n",
      "25%    -298.618900 -112.651133  -926.428667  -99.997318 -118.227675   \n",
      "50%     -92.624089 -100.162307  -135.478496  -99.983781  -92.826831   \n",
      "75%     -38.360086  -94.264956    23.059212  -99.960851  -71.602692   \n",
      "max     402.217642  -82.935082   810.792324  -99.479109  -25.435146   \n",
      "\n",
      "              572          573         585         589  \n",
      "count   49.329930    49.329930   49.329930   49.329930  \n",
      "mean  -100.000000  -100.000000 -100.000000 -100.000000  \n",
      "std    -98.841067   302.535937  -72.036781  -98.934378  \n",
      "min   -107.579379 -1985.157277 -153.170983        -inf  \n",
      "25%   -102.856822  -301.352682 -112.191377 -101.427970  \n",
      "50%   -102.286811  -161.358711 -104.669945 -100.382961  \n",
      "75%   -101.748412   -48.224144  -97.954304  -99.820716  \n",
      "max    -98.690105   321.741888  -68.575361  -99.004116  \n",
      "\n",
      "[8 rows x 204 columns]\n",
      "\n",
      "Percentage Change in Test Data:\n",
      "                0           1           2           3           4           6  \\\n",
      "count  -62.603701  -62.603701  -62.603701  -62.603701  -62.603701  -62.603701   \n",
      "mean  -100.001741 -100.002244 -100.001273  -99.997901  -99.729244 -100.066781   \n",
      "std    -98.670242  -98.701623  -96.929548  -99.783734  -97.943129  -84.502252   \n",
      "min   -100.099929 -100.150565 -100.116796        -inf -107.648509 -104.116737   \n",
      "25%   -100.021924 -100.026438 -100.033097 -100.063620 -104.227280 -100.570441   \n",
      "50%   -100.006142  -99.999182 -100.004466 -100.013018 -102.757728 -100.039709   \n",
      "75%    -99.986123  -99.979525  -99.974516  -99.968364 -102.041427  -99.541794   \n",
      "max    -99.879902  -99.839176  -99.839886  -99.884667  -97.496940  -96.984850   \n",
      "\n",
      "                 8          12          14          15  ...         562  \\\n",
      "count   -62.603701  -62.603701  -62.603701  -62.603701  ...  -62.603701   \n",
      "mean    -98.927266 -100.046275 -100.494248 -100.010809  ...  -99.991970   \n",
      "std    1263.166544  -74.479525  -64.806506  -96.493439  ...  -85.353827   \n",
      "min    -433.040570 -101.574308 -189.869294 -101.644006  ... -101.144012   \n",
      "25%    -143.925272 -100.277099 -110.656386 -100.108471  ... -100.025259   \n",
      "50%     -99.001352 -100.092033 -100.264615 -100.019275  ...  -99.895892   \n",
      "75%     -53.086548  -99.719990  -94.306961  -99.920872  ...  -99.886706   \n",
      "max      70.234022  -98.954331  -81.451784  -99.705087  ...  -98.325025   \n",
      "\n",
      "               563         564          565         570         571  \\\n",
      "count   -62.603701  -62.603701   -62.603701  -62.603701  -62.603701   \n",
      "mean    -93.690741 -100.095252   -94.904995 -100.002949 -102.783958   \n",
      "std     891.806042  -51.901093  1175.527178  -93.988034  290.826204   \n",
      "min   -1368.415531 -334.186355 -6583.614969 -103.674525 -458.964978   \n",
      "25%    -277.604041 -112.651133  -926.428667  -99.998992 -119.394401   \n",
      "50%     -92.624089 -101.675634  -135.478496  -99.981985  -93.941265   \n",
      "75%     -23.031371  -94.134731    23.582474  -99.961377  -70.080810   \n",
      "max     343.138379  -66.092078   697.120271  -99.455087  -32.827395   \n",
      "\n",
      "              572          573         585         589  \n",
      "count  -62.603701   -62.603701  -62.603701  -62.603701  \n",
      "mean   -99.889054   -95.431382 -102.216296  -99.930820  \n",
      "std    -98.761280   297.053461  -90.304187  -98.803028  \n",
      "min   -107.072723 -1985.157277 -147.189095        -inf  \n",
      "25%   -102.898672  -297.631254 -112.248721 -101.385187  \n",
      "50%   -102.283621  -165.399458 -104.669945 -100.398179  \n",
      "75%   -101.747391   -29.274053  -99.183659  -99.703334  \n",
      "max    -98.696236   321.741888  -98.036132  -99.251355  \n",
      "\n",
      "[8 rows x 204 columns]\n"
     ]
    }
   ],
   "source": [
    "# Compare summary statistics\n",
    "original_stats = X.describe()\n",
    "train_stats = pd.DataFrame(X_train_scaled, columns=X.columns).describe()\n",
    "test_stats = pd.DataFrame(X_test_scaled, columns=X.columns).describe()\n",
    "\n",
    "percentage_change_train = ((train_stats - original_stats) / original_stats) * 100\n",
    "percentage_change_test = ((test_stats - original_stats) / original_stats) * 100\n",
    "\n",
    "\n",
    "print(\"Original Data Statistics:\")\n",
    "print(original_stats)\n",
    "\n",
    "print(\"\\nTrain Data Statistics:\")\n",
    "print(train_stats)\n",
    "\n",
    "print(\"\\nTest Data Statistics:\")\n",
    "print(test_stats)\n",
    "\n",
    "print(\"Percentage Change in Train Data:\")\n",
    "print(percentage_change_train)\n",
    "\n",
    "print(\"\\nPercentage Change in Test Data:\")\n",
    "print(percentage_change_test)"
   ]
  },
  {
   "cell_type": "markdown",
   "id": "d317f60f",
   "metadata": {},
   "source": [
    "##### Difference between train and test data compared to original data is very minimal. They are almost same.\n",
    "\n",
    "    Percentage Change in Train Data from Original Data:\n",
    "\n",
    "                 0           1           2           3           4           6  \n",
    "    mean  -100.000000 -100.000000 -100.000000 -100.000000 -100.000000 -100.000000   \n",
    "    std    -98.638553  -98.753051  -96.595073  -99.772488  -98.216855  -83.888619   \n",
    "    min   -100.132778 -100.194190 -100.229733        -inf -109.906665 -103.783032   \n",
    "    25%   -100.022438 -100.021895 -100.028582 -100.065065 -106.103012 -100.550461   \n",
    "    50%   -100.001467  -99.998544  -99.999529 -100.019197 -104.355560  -99.936101   \n",
    "    75%    -99.981543  -99.979188  -99.974065  -99.971881 -103.529515  -99.446697   \n",
    "    max    -99.864122  -99.850765  -99.831999  -99.856764  -98.412119  -96.420588   \n",
    "\n",
    "\n",
    "    Percentage Change in Test Data from Original Data:\n",
    "                 0           1           2           3           4           6  \n",
    "    mean  -100.002282 -100.002491  -99.999079  -99.995889 -101.360808  -99.959288   \n",
    "    std    -98.761142  -98.788793  -96.680384  -99.765071  -99.988679  -82.422450   \n",
    "    min   -100.111196 -100.178505 -100.136160        -inf -109.906665 -103.759932   \n",
    "    25%   -100.020300 -100.023386 -100.032136 -100.064843 -106.109085 -100.397783   \n",
    "    50%   -100.002065 -100.000499  -99.998845 -100.015777 -104.376872  -99.873399   \n",
    "    75%    -99.983745  -99.981598  -99.969548  -99.962596 -103.535380  -99.483076   \n",
    "    max    -99.924422  -99.847725  -99.882388  -99.868156 -100.003330  -96.420588  "
   ]
  },
  {
   "cell_type": "markdown",
   "id": "7108c857",
   "metadata": {},
   "source": [
    "#### Q5 A -Use any Supervised Learning technique to train a model"
   ]
  },
  {
   "cell_type": "code",
   "execution_count": 23,
   "id": "d031159e",
   "metadata": {},
   "outputs": [
    {
     "name": "stdout",
     "output_type": "stream",
     "text": [
      "Accuracy Train: 0.93\n",
      "Accuracy Test: 0.91\n"
     ]
    }
   ],
   "source": [
    "# Create a kNN model\n",
    "k = 5  # Number of neighbors\n",
    "knn_model = KNeighborsClassifier(n_neighbors=k)\n",
    "\n",
    "\n",
    "# Train the KNN model on the training data\n",
    "knn_model.fit(X_train_scaled, y_train)\n",
    "\n",
    "# Make predictions on the test data\n",
    "y_pred_train = knn_model.predict(X_train_scaled)\n",
    "\n",
    "y_pred_test = knn_model.predict(X_test_scaled)\n",
    "\n",
    "# Calculate accuracy\n",
    "accuracy_train = accuracy_score(y_train, y_pred_train)\n",
    "\n",
    "accuracy_test = accuracy_score(y_test, y_pred_test)\n",
    "print(f\"Accuracy Train: {accuracy_train:.2f}\")\n",
    "print(f\"Accuracy Test: {accuracy_test:.2f}\")"
   ]
  },
  {
   "cell_type": "markdown",
   "id": "80741c08",
   "metadata": {},
   "source": [
    "#### Q5 B -Use cross validation techniques"
   ]
  },
  {
   "cell_type": "code",
   "execution_count": 24,
   "id": "26346100",
   "metadata": {},
   "outputs": [
    {
     "name": "stdout",
     "output_type": "stream",
     "text": [
      "Fold 1: Accuracy = 0.88\n",
      "Fold 2: Accuracy = 0.88\n",
      "Fold 3: Accuracy = 0.88\n",
      "Fold 4: Accuracy = 0.89\n",
      "Fold 5: Accuracy = 0.91\n",
      "Average Accuracy: 0.89\n"
     ]
    }
   ],
   "source": [
    "# Perform 5-fold cross-validation\n",
    "num_folds = 5\n",
    "scores = cross_val_score(knn_model, X_train_scaled, y_train, cv=num_folds)\n",
    "\n",
    "# Print the accuracy scores for each fold\n",
    "for fold, score in enumerate(scores, start=1):\n",
    "    print(f\"Fold {fold}: Accuracy = {score:.2f}\")\n",
    "\n",
    "# Calculate and print the average accuracy\n",
    "average_accuracy = np.mean(scores)\n",
    "print(f\"Average Accuracy: {average_accuracy:.2f}\")"
   ]
  },
  {
   "cell_type": "markdown",
   "id": "0c9a88ca",
   "metadata": {},
   "source": [
    "#### Q5 D -Use any other technique/method which can enhance the model performance"
   ]
  },
  {
   "cell_type": "code",
   "execution_count": 25,
   "id": "799cc848",
   "metadata": {},
   "outputs": [
    {
     "name": "stderr",
     "output_type": "stream",
     "text": [
      "C:\\Users\\seshabhattark\\AppData\\Local\\Temp\\ipykernel_46880\\1258042028.py:2: FutureWarning: The default value of numeric_only in DataFrame.corr is deprecated. In a future version, it will default to False. Select only valid columns or specify the value of numeric_only to silence this warning.\n",
      "  correlation_matrix = processed_data_cleaned.corr()\n"
     ]
    },
    {
     "data": {
      "text/plain": [
       "(1872, 68)"
      ]
     },
     "execution_count": 25,
     "metadata": {},
     "output_type": "execute_result"
    }
   ],
   "source": [
    "# Calculate the correlation matrix\n",
    "correlation_matrix = processed_data_cleaned.corr()\n",
    "\n",
    "# Find highly correlated pairs\n",
    "threshold = 0.7  # Define your threshold for high correlation\n",
    "highly_correlated_pairs = []\n",
    "\n",
    "for i in range(len(correlation_matrix.columns)):\n",
    "    for j in range(i + 1, len(correlation_matrix.columns)):\n",
    "        if abs(correlation_matrix.iloc[i, j]) > threshold:\n",
    "            highly_correlated_pairs.append((correlation_matrix.columns[i], correlation_matrix.columns[j]))\n",
    "\n",
    "# Extract columns to be used for PCA\n",
    "columns_for_pca = set()\n",
    "for pair in highly_correlated_pairs:\n",
    "    columns_for_pca.add(pair[0])\n",
    "    columns_for_pca.add(pair[1])\n",
    "\n",
    "# Apply PCA to selected columns\n",
    "pca = PCA(n_components=len(columns_for_pca))\n",
    "\n",
    "X_pca_train = pca.fit_transform(X_train_scaled)\n",
    "# Split the data into training and test sets\n",
    "X_train, X_test, y_train, y_test = train_test_split(X_pca_train, y_train, test_size=0.2, random_state=42)\n",
    "\n",
    "# Train the KNN classifier\n",
    "knn_model = KNeighborsClassifier(n_neighbors=5)\n",
    "knn_model.fit(X_train, y_train)\n",
    "\n",
    "# Make predictions on the test set\n",
    "y_pred = knn_model.predict(X_test)\n",
    "X_train.shape"
   ]
  },
  {
   "cell_type": "code",
   "execution_count": 37,
   "id": "863a6b9a",
   "metadata": {},
   "outputs": [
    {
     "name": "stdout",
     "output_type": "stream",
     "text": [
      "Accuracy Train: 0.97\n",
      "Accuracy Test: 0.93\n"
     ]
    }
   ],
   "source": [
    "# Predict using the trained model\n",
    "y_pred_train = knn_model.predict(X_train)\n",
    "y_pred_test = knn_model.predict(X_test)\n",
    "# Calculate accuracy\n",
    "accuracy_train = accuracy_score(y_train, y_pred_train)\n",
    "accuracy_test = accuracy_score(y_test, y_pred_test)\n",
    "print(f\"Accuracy Train: {accuracy_train:.2f}\")\n",
    "print(f\"Accuracy Test: {accuracy_test:.2f}\")"
   ]
  },
  {
   "cell_type": "markdown",
   "id": "a13ba2ab",
   "metadata": {},
   "source": [
    "#### Q5 C -Apply hyper-parameter tuning techniques to get the best accuracy"
   ]
  },
  {
   "cell_type": "code",
   "execution_count": 38,
   "id": "f4f00bcc",
   "metadata": {},
   "outputs": [
    {
     "name": "stdout",
     "output_type": "stream",
     "text": [
      "0.9572649572649573\n"
     ]
    }
   ],
   "source": [
    "# Define the parameter grid for GridSearchCV\n",
    "param_grid = {\n",
    "    'n_neighbors': [3, 5, 7],  # List of values to try for k\n",
    "    'algorithm':['auto','ball_tree', 'kd_tree', 'brute']\n",
    "}\n",
    "\n",
    "# Perform GridSearchCV with 5-fold cross-validation\n",
    "grid_search = GridSearchCV(estimator=knn_model, param_grid=param_grid, cv=5)\n",
    "grid_search.fit(X_train, y_train)\n",
    "\n",
    "# Get the best k value from the grid search\n",
    "best_k = grid_search.best_params_['n_neighbors']\n",
    "\n",
    "# Predict using the best model from GridSearchCV\n",
    "best_model = grid_search.best_estimator_\n",
    "y_pred = best_model.predict(X_test)\n",
    "\n",
    "# Calculate accuracy\n",
    "accuracy = accuracy_score(y_test, y_pred)\n",
    "print(accuracy)"
   ]
  },
  {
   "cell_type": "markdown",
   "id": "bbb8d988",
   "metadata": {},
   "source": [
    "#### Q5 E -Display and explain the classification report in detail."
   ]
  },
  {
   "cell_type": "code",
   "execution_count": 28,
   "id": "648a6d88",
   "metadata": {},
   "outputs": [
    {
     "name": "stdout",
     "output_type": "stream",
     "text": [
      "Best k: 3\n",
      "Accuracy: 0.96\n",
      "Best Parameters:  {'algorithm': 'auto', 'n_neighbors': 3}\n",
      "Best Score:  0.9556777183600713\n",
      "Train Set Score:  0.9572649572649573\n",
      "Test Set Score:  0.9572649572649573\n",
      "---------------------------\n",
      "Classification Report: \n",
      "              precision    recall  f1-score   support\n",
      "\n",
      "          -1       1.00      0.92      0.96       240\n",
      "           1       0.92      1.00      0.96       228\n",
      "\n",
      "    accuracy                           0.96       468\n",
      "   macro avg       0.96      0.96      0.96       468\n",
      "weighted avg       0.96      0.96      0.96       468\n",
      "\n",
      "---------------------------\n"
     ]
    },
    {
     "data": {
      "text/plain": [
       "<Axes: >"
      ]
     },
     "execution_count": 28,
     "metadata": {},
     "output_type": "execute_result"
    },
    {
     "data": {
      "image/png": "[encoded data removed]",
      "text/plain": [
       "<Figure size 700x500 with 2 Axes>"
      ]
     },
     "metadata": {},
     "output_type": "display_data"
    }
   ],
   "source": [
    "print(f\"Best k: {best_k}\")\n",
    "print(f\"Accuracy: {accuracy:.2f}\")\n",
    "\n",
    "# Print the best parameters and the corresponding score\n",
    "print(\"Best Parameters: \", grid_search.best_params_)\n",
    "print(\"Best Score: \", grid_search.best_score_)\n",
    "\n",
    "# Evaluate the model on the test set\n",
    "train_score = grid_search.score(X_train, y_train)\n",
    "test_score = grid_search.score(X_test, y_test)\n",
    "print(\"Train Set Score: \", test_score)\n",
    "print(\"Test Set Score: \", test_score)\n",
    "\n",
    "print('---------------------------')\n",
    "print(\"Classification Report: \")\n",
    "print(classification_report(y_test, y_pred))\n",
    "print('---------------------------')\n",
    "\n",
    "cm=confusion_matrix(y_test, y_pred,labels=[0, 1])\n",
    "df_cm = pd.DataFrame(cm, index = [i for i in [\"Actual-No\",\"Actual-Yes\"]], columns = [i for i in [\"Predicted-No\",\"Predicted-Yes\"]])\n",
    "plt.figure(figsize = (7,5))\n",
    "sns.heatmap(df_cm, annot=True ,fmt='g')"
   ]
  },
  {
   "cell_type": "markdown",
   "id": "883e8260",
   "metadata": {},
   "source": [
    "The classifcation report shows the \n",
    "1. Accuracy of the model has been 93.0 before applying gridsearch to 96.0 after applying gridsearch \n",
    "2. Precision of -1(Fail) to 1 and 1(Pass) to 0.92 , showcasing the true positive predictions among all positive predictions.\n",
    "3. Recall of -1 to 0.92 and 1 to 1 i.e True Postive Rate of Fail as 0.92 and Pass as 1\n",
    "4. F1 score as 0.96 , determining the balance between precision and recall as 0.96.\n"
   ]
  },
  {
   "cell_type": "markdown",
   "id": "c996e6e3",
   "metadata": {},
   "source": [
    "#### Q5 F -Apply the above steps for all possible models that you have learnt so far"
   ]
  },
  {
   "cell_type": "markdown",
   "id": "b6ce9268",
   "metadata": {},
   "source": [
    "#### GradientBoostingClassifier"
   ]
  },
  {
   "cell_type": "code",
   "execution_count": 29,
   "id": "5641a60c",
   "metadata": {},
   "outputs": [
    {
     "name": "stdout",
     "output_type": "stream",
     "text": [
      "Best Parameters:  {'learning_rate': 0.1, 'max_depth': 7, 'max_features': 'log2', 'n_estimators': 50}\n",
      "Best Score:  0.9967971479500891\n",
      "Train Set Score:  0.9957264957264957\n",
      "Test Set Score:  0.9957264957264957\n",
      "---------------------------\n",
      "Classification Report: \n",
      "              precision    recall  f1-score   support\n",
      "\n",
      "          -1       1.00      0.99      1.00       240\n",
      "           1       0.99      1.00      1.00       228\n",
      "\n",
      "    accuracy                           1.00       468\n",
      "   macro avg       1.00      1.00      1.00       468\n",
      "weighted avg       1.00      1.00      1.00       468\n",
      "\n",
      "---------------------------\n"
     ]
    },
    {
     "data": {
      "text/plain": [
       "<Axes: >"
      ]
     },
     "execution_count": 29,
     "metadata": {},
     "output_type": "execute_result"
    },
    {
     "data": {
      "image/png": "[encoded data removed]",
      "text/plain": [
       "<Figure size 700x500 with 2 Axes>"
      ]
     },
     "metadata": {},
     "output_type": "display_data"
    }
   ],
   "source": [
    "gbcl = GradientBoostingClassifier(random_state=1)\n",
    "\n",
    "param_grid = {\n",
    "    'n_estimators': [10, 50],\n",
    "    'learning_rate': [0.01, 0.1],\n",
    "    'max_depth': [3, 5, 7],\n",
    "    'max_features':['sqrt','log2']\n",
    "}\n",
    "grid_search_gbcl = GridSearchCV(gbcl, param_grid, cv=5)\n",
    "grid_search_gbcl.fit(X_train, y_train)\n",
    "y_predict = grid_search_gbcl.predict(X_test)\n",
    "\n",
    "# Print the best parameters and the corresponding score\n",
    "print(\"Best Parameters: \", grid_search_gbcl.best_params_)\n",
    "print(\"Best Score: \", grid_search_gbcl.best_score_)\n",
    "\n",
    "# Evaluate the model on the test set\n",
    "train_score = grid_search_gbcl.score(X_train, y_train)\n",
    "test_score = grid_search_gbcl.score(X_test, y_test)\n",
    "print(\"Train Set Score: \", test_score)\n",
    "print(\"Test Set Score: \", test_score)\n",
    "\n",
    "print('---------------------------')\n",
    "print(\"Classification Report: \")\n",
    "print(classification_report(y_test, y_predict))\n",
    "print('---------------------------')\n",
    "\n",
    "cm=confusion_matrix(y_test, y_predict,labels=[0, 1])\n",
    "df_cm = pd.DataFrame(cm, index = [i for i in [\"Actual-No\",\"Actual-Yes\"]], columns = [i for i in [\"Predicted-No\",\"Predicted-Yes\"]])\n",
    "plt.figure(figsize = (7,5))\n",
    "sns.heatmap(df_cm, annot=True ,fmt='g')"
   ]
  },
  {
   "cell_type": "markdown",
   "id": "965895d8",
   "metadata": {},
   "source": [
    "#### DecisionTreeClassifier"
   ]
  },
  {
   "cell_type": "code",
   "execution_count": 30,
   "id": "73f3a407",
   "metadata": {},
   "outputs": [
    {
     "name": "stdout",
     "output_type": "stream",
     "text": [
      "Best Parameters:  {'criterion': 'gini', 'max_depth': None, 'max_features': None, 'min_samples_leaf': 1, 'min_samples_split': 5}\n",
      "Best Score:  0.9535258467023173\n",
      "Train Score:  1.0\n",
      "Test Score:  0.9465811965811965\n",
      "---------------------------\n",
      "Precision:  0.9505928853754941\n",
      "Recall:  0.9479166666666667\n",
      "---------------------------\n",
      "Classification Report: \n",
      "              precision    recall  f1-score   support\n",
      "\n",
      "          -1       1.00      0.90      0.95       240\n",
      "           1       0.90      1.00      0.95       228\n",
      "\n",
      "    accuracy                           0.95       468\n",
      "   macro avg       0.95      0.95      0.95       468\n",
      "weighted avg       0.95      0.95      0.95       468\n",
      "\n",
      "---------------------------\n"
     ]
    },
    {
     "data": {
      "text/plain": [
       "<Axes: >"
      ]
     },
     "execution_count": 30,
     "metadata": {},
     "output_type": "execute_result"
    },
    {
     "data": {
      "image/png": "[encoded data removed]",
      "text/plain": [
       "<Figure size 700x500 with 2 Axes>"
      ]
     },
     "metadata": {},
     "output_type": "display_data"
    }
   ],
   "source": [
    "dTree = DecisionTreeClassifier(random_state=1)\n",
    "#Define Parameters for grid search\n",
    "grid_params = {\n",
    "    'criterion':['gini','entropy'],\n",
    "    'max_depth':[None,3,5,7,9],\n",
    "    'min_samples_split':[2,5,10],\n",
    "    'min_samples_leaf':[1,2,4],\n",
    "    'max_features': [None, 'sqrt', 'log2']\n",
    "}\n",
    "\n",
    "#Perform GridSearch with CV\n",
    "\n",
    "grid_search_dTree = GridSearchCV(dTree,grid_params,cv=5)\n",
    "grid_search_dTree.fit(X_train,y_train)\n",
    "y_predict = grid_search_dTree.predict(X_test)\n",
    "\n",
    "# Print the best parameters and the corresponding score\n",
    "print(\"Best Parameters: \",grid_search_dTree.best_params_)\n",
    "print(\"Best Score: \",grid_search_dTree.best_score_)\n",
    "\n",
    "# Evaluate the model on the train and test set\n",
    "train_score = grid_search_dTree.score(X_train, y_train)\n",
    "test_score = grid_search_dTree.score(X_test, y_test)\n",
    "print(\"Train Score: \", train_score)\n",
    "print(\"Test Score: \", test_score)\n",
    "print('---------------------------')\n",
    "print(\"Precision: \",precision_score(y_test, y_predict, average='macro'))\n",
    "print(\"Recall: \",recall_score(y_test, y_predict, average='macro'))\n",
    "print('---------------------------')\n",
    "print(\"Classification Report: \")\n",
    "print(classification_report(y_test, y_predict))\n",
    "print('---------------------------')\n",
    "cm = confusion_matrix(y_test, y_predict, labels=[0, 1])\n",
    "df_cm = pd.DataFrame(cm, index = [i for i in [\"Actual-No\",\"Actual-Yes\"]], columns = [i for i in [\"Predicted-No\",\"Predicted-Yes\"]])\n",
    "plt.figure(figsize = (7,5))\n",
    "sns.heatmap(df_cm, annot=True ,fmt='g')"
   ]
  },
  {
   "cell_type": "markdown",
   "id": "f6a95faf",
   "metadata": {},
   "source": [
    "#### RandomForestClassifier"
   ]
  },
  {
   "cell_type": "code",
   "execution_count": 31,
   "id": "18542e7b",
   "metadata": {},
   "outputs": [
    {
     "name": "stdout",
     "output_type": "stream",
     "text": [
      "Best Parameters:  {'max_depth': 10, 'max_features': 'sqrt', 'min_samples_leaf': 1, 'min_samples_split': 2, 'n_estimators': 50}\n",
      "Best Score:  0.9951942959001782\n",
      "Training Set Score:  0.999465811965812\n",
      "Test Set Score:  0.9935897435897436\n",
      "---------------------------\n",
      "Classification Report: \n",
      "              precision    recall  f1-score   support\n",
      "\n",
      "          -1       1.00      0.99      0.99       240\n",
      "           1       0.99      1.00      0.99       228\n",
      "\n",
      "    accuracy                           0.99       468\n",
      "   macro avg       0.99      0.99      0.99       468\n",
      "weighted avg       0.99      0.99      0.99       468\n",
      "\n",
      "---------------------------\n"
     ]
    },
    {
     "data": {
      "text/plain": [
       "<Axes: >"
      ]
     },
     "execution_count": 31,
     "metadata": {},
     "output_type": "execute_result"
    },
    {
     "data": {
      "image/png": "[encoded data removed]",
      "text/plain": [
       "<Figure size 700x500 with 2 Axes>"
      ]
     },
     "metadata": {},
     "output_type": "display_data"
    }
   ],
   "source": [
    "rfcl = RandomForestClassifier(random_state=1)\n",
    "# Define the parameter grid for the grid search\n",
    "param_grid_rfcl = {\n",
    "    'n_estimators': [10, 50],\n",
    "    'max_depth': [5, 10],\n",
    "    'min_samples_split': [2, 5],\n",
    "    'min_samples_leaf': [1, 2, 4],\n",
    "    'max_features': ['sqrt', 'log2'],\n",
    "}\n",
    "grid_search_rfcl = GridSearchCV(rfcl, param_grid_rfcl, cv=5)\n",
    "grid_search_rfcl.fit(X_train, y_train)\n",
    "y_predict = grid_search_rfcl.predict(X_test)\n",
    "\n",
    "# Print the best parameters and the corresponding score\n",
    "print(\"Best Parameters: \", grid_search_rfcl.best_params_)\n",
    "print(\"Best Score: \", grid_search_rfcl.best_score_)\n",
    "\n",
    "# Evaluate the model on the train and test set\n",
    "train_score = grid_search_rfcl.score(X_train, y_train)\n",
    "test_score = grid_search_rfcl.score(X_test, y_test)\n",
    "print(\"Training Set Score: \", train_score)\n",
    "print(\"Test Set Score: \", test_score)\n",
    "print('---------------------------')\n",
    "print(\"Classification Report: \")\n",
    "print(classification_report(y_test, y_predict))\n",
    "print('---------------------------')\n",
    "cm=confusion_matrix(y_test, y_predict,labels=[0, 1])\n",
    "df_cm = pd.DataFrame(cm, index = [i for i in [\"Actual-No\",\"Actual-Yes\"]], columns = [i for i in [\"Predicted-No\",\"Predicted-Yes\"]])\n",
    "plt.figure(figsize = (7,5))\n",
    "sns.heatmap(df_cm, annot=True ,fmt='g')"
   ]
  },
  {
   "cell_type": "markdown",
   "id": "5599a66a",
   "metadata": {},
   "source": [
    "###### AdaBoostClassifier"
   ]
  },
  {
   "cell_type": "code",
   "execution_count": 32,
   "id": "71e0c0a4",
   "metadata": {},
   "outputs": [
    {
     "name": "stdout",
     "output_type": "stream",
     "text": [
      "Best Parameters:  {'estimator': DecisionTreeClassifier(max_depth=5, max_features='sqrt', min_samples_leaf=5), 'learning_rate': 0.5, 'n_estimators': 50}\n",
      "Best Score:  0.9994666666666667\n",
      "Train Set Score:  1.0\n",
      "Test Set Score:  0.9978632478632479\n",
      "---------------------------\n",
      "Classification Report: \n",
      "              precision    recall  f1-score   support\n",
      "\n",
      "          -1       1.00      1.00      1.00       240\n",
      "           1       1.00      1.00      1.00       228\n",
      "\n",
      "    accuracy                           1.00       468\n",
      "   macro avg       1.00      1.00      1.00       468\n",
      "weighted avg       1.00      1.00      1.00       468\n",
      "\n",
      "---------------------------\n"
     ]
    },
    {
     "data": {
      "text/plain": [
       "<Axes: >"
      ]
     },
     "execution_count": 32,
     "metadata": {},
     "output_type": "execute_result"
    },
    {
     "data": {
      "image/png": "[encoded data removed]",
      "text/plain": [
       "<Figure size 700x500 with 2 Axes>"
      ]
     },
     "metadata": {},
     "output_type": "display_data"
    }
   ],
   "source": [
    "abcl = AdaBoostClassifier()\n",
    "\n",
    "param_grid = {\n",
    "    'n_estimators': [10, 50],\n",
    "    'learning_rate': [0.1, 0.5],\n",
    "    'estimator': [None, DecisionTreeClassifier(max_depth=5,criterion='gini',max_features='sqrt',min_samples_leaf=5)],\n",
    "\n",
    "}\n",
    "# Perform grid search with cross-validation\n",
    "grid_search_abcl = GridSearchCV(abcl, param_grid, cv=5)\n",
    "grid_search_abcl.fit(X_train, y_train)\n",
    "y_predict = grid_search_abcl.predict(X_test)\n",
    "\n",
    "# Print the best parameters and the corresponding score\n",
    "print(\"Best Parameters: \", grid_search_abcl.best_params_)\n",
    "print(\"Best Score: \", grid_search_abcl.best_score_)\n",
    "\n",
    "# Evaluate the model on the test set\n",
    "train_score = grid_search_abcl.score(X_train, y_train)\n",
    "test_score = grid_search_abcl.score(X_test, y_test)\n",
    "print(\"Train Set Score: \", train_score)\n",
    "print(\"Test Set Score: \", test_score)\n",
    "print('---------------------------')\n",
    "print(\"Classification Report: \")\n",
    "print(classification_report(y_test, y_predict))\n",
    "print('---------------------------')\n",
    "cm=confusion_matrix(y_test, y_predict,labels=[0, 1])\n",
    "\n",
    "df_cm = pd.DataFrame(cm, index = [i for i in [\"Actual-No\",\"Actual-Yes\"]], columns = [i for i in [\"Predicted-No\",\"Predicted-Yes\"]])\n",
    "plt.figure(figsize = (7,5))\n",
    "sns.heatmap(df_cm, annot=True ,fmt='g')"
   ]
  },
  {
   "cell_type": "code",
   "execution_count": 39,
   "id": "4e659f22",
   "metadata": {},
   "outputs": [
    {
     "name": "stdout",
     "output_type": "stream",
     "text": [
      "Best Parameters:  {'C': 1, 'gamma': 0.1, 'kernel': 'rbf'}\n",
      "Best Score:  1.0\n",
      "Train Set Score:  1.0\n",
      "Test Set Score:  1.0\n",
      "---------------------------\n",
      "Classification Report: \n",
      "              precision    recall  f1-score   support\n",
      "\n",
      "          -1       1.00      1.00      1.00       240\n",
      "           1       1.00      1.00      1.00       228\n",
      "\n",
      "    accuracy                           1.00       468\n",
      "   macro avg       1.00      1.00      1.00       468\n",
      "weighted avg       1.00      1.00      1.00       468\n",
      "\n",
      "---------------------------\n"
     ]
    },
    {
     "data": {
      "text/plain": [
       "<Axes: >"
      ]
     },
     "execution_count": 39,
     "metadata": {},
     "output_type": "execute_result"
    },
    {
     "data": {
      "image/png": "[encoded data removed]",
      "text/plain": [
       "<Figure size 700x500 with 2 Axes>"
      ]
     },
     "metadata": {},
     "output_type": "display_data"
    }
   ],
   "source": [
    "svm_model = SVC()\n",
    "\n",
    "param_grid = {\n",
    "    'C': [0.1, 1, 10],\n",
    "    'kernel': ['linear', 'rbf', 'poly'],\n",
    "    'gamma': [0.1, 1, 'scale']\n",
    "}\n",
    "\n",
    "# Create a GridSearchCV instance\n",
    "grid_search_svm = GridSearchCV(estimator=svm_model, param_grid=param_grid, cv=5)\n",
    "\n",
    "# Perform grid search with cross-validation\n",
    "grid_search_svm = GridSearchCV(svm_model, param_grid, cv=5)\n",
    "grid_search_svm.fit(X_train, y_train)\n",
    "y_predict = grid_search_svm.predict(X_test)\n",
    "\n",
    "# Print the best parameters and the corresponding score\n",
    "print(\"Best Parameters: \", grid_search_svm.best_params_)\n",
    "print(\"Best Score: \", grid_search_svm.best_score_)\n",
    "\n",
    "# Evaluate the model on the test set\n",
    "train_score = grid_search_svm.score(X_train, y_train)\n",
    "test_score = grid_search_svm.score(X_test, y_test)\n",
    "print(\"Train Set Score: \", train_score)\n",
    "print(\"Test Set Score: \", test_score)\n",
    "print('---------------------------')\n",
    "print(\"Classification Report: \")\n",
    "print(classification_report(y_test, y_predict))\n",
    "print('---------------------------')\n",
    "cm=confusion_matrix(y_test, y_predict,labels=[0, 1])\n",
    "\n",
    "df_cm = pd.DataFrame(cm, index = [i for i in [\"Actual-No\",\"Actual-Yes\"]], columns = [i for i in [\"Predicted-No\",\"Predicted-Yes\"]])\n",
    "plt.figure(figsize = (7,5))\n",
    "sns.heatmap(df_cm, annot=True ,fmt='g')"
   ]
  },
  {
   "cell_type": "markdown",
   "id": "6bb54586",
   "metadata": {},
   "source": [
    "#### Q6 A-Display and compare all the models designed with their train and test accuracies"
   ]
  },
  {
   "cell_type": "code",
   "execution_count": 33,
   "id": "e217fa8c",
   "metadata": {},
   "outputs": [],
   "source": [
    "def get_metrics_score(model,flag=True):\n",
    "    score_list= []\n",
    "    \n",
    "    #Predicting on train and tests\n",
    "    pred_train = model.predict(X_train)\n",
    "    pred_test = model.predict(X_test)\n",
    "    \n",
    "    #Accuracy of the model\n",
    "    train_acc = model.score(X_train,y_train)\n",
    "    test_acc = model.score(X_test,y_test)\n",
    "    \n",
    "    #Recall of the model\n",
    "    train_recall = metrics.recall_score(y_train,pred_train,average='macro')\n",
    "    test_recall = metrics.recall_score(y_test,pred_test,average='macro')\n",
    "    \n",
    "    #Precision of the model\n",
    "    train_precision = metrics.precision_score(y_train,pred_train,average='macro')\n",
    "    test_precision = metrics.precision_score(y_test,pred_test,average='macro')\n",
    "    \n",
    "    score_list.extend((train_acc,test_acc,train_recall,test_recall,train_precision,test_precision))\n",
    "        \n",
    "    return score_list\n"
   ]
  },
  {
   "cell_type": "code",
   "execution_count": 34,
   "id": "723b21a9",
   "metadata": {},
   "outputs": [],
   "source": [
    "def compare_models(model,model_names):\n",
    "    acc_train = []\n",
    "    acc_test = []\n",
    "    recall_train = []\n",
    "    recall_test = []\n",
    "    precision_train= []\n",
    "    precision_test = []\n",
    "\n",
    "    for model in models:\n",
    "        j= get_metrics_score(model,False)\n",
    "        acc_train.append(np.round(j[0],2))\n",
    "        acc_test.append(np.round(j[1],2))\n",
    "        recall_train.append(np.round(j[2],2))\n",
    "        recall_test.append(np.round(j[3],2))\n",
    "        precision_train.append(np.round(j[4],2))\n",
    "        precision_test.append(np.round(j[5],2))\n",
    "\n",
    "\n",
    "    comparision_frame = pd.DataFrame({'Model':model_names,\n",
    "                                             'Train_accuracy':acc_train,'Test_accuracy':acc_test,\n",
    "                                             'Train_Recall':recall_train,'Test_Recall':recall_test,\n",
    "                                             'Train_Precision':precision_train,'Test_Precision':precision_test})\n",
    "    return comparision_frame\n"
   ]
  },
  {
   "cell_type": "code",
   "execution_count": 40,
   "id": "f0b1bcd3",
   "metadata": {},
   "outputs": [
    {
     "data": {
      "text/html": [
       "<div>\n",
       "<style scoped>\n",
       "    .dataframe tbody tr th:only-of-type {\n",
       "        vertical-align: middle;\n",
       "    }\n",
       "\n",
       "    .dataframe tbody tr th {\n",
       "        vertical-align: top;\n",
       "    }\n",
       "\n",
       "    .dataframe thead th {\n",
       "        text-align: right;\n",
       "    }\n",
       "</style>\n",
       "<table border=\"1\" class=\"dataframe\">\n",
       "  <thead>\n",
       "    <tr style=\"text-align: right;\">\n",
       "      <th></th>\n",
       "      <th>Model</th>\n",
       "      <th>Train_accuracy</th>\n",
       "      <th>Test_accuracy</th>\n",
       "      <th>Train_Recall</th>\n",
       "      <th>Test_Recall</th>\n",
       "      <th>Train_Precision</th>\n",
       "      <th>Test_Precision</th>\n",
       "    </tr>\n",
       "  </thead>\n",
       "  <tbody>\n",
       "    <tr>\n",
       "      <th>0</th>\n",
       "      <td>Decision Tree</td>\n",
       "      <td>1.00</td>\n",
       "      <td>0.95</td>\n",
       "      <td>1.00</td>\n",
       "      <td>0.95</td>\n",
       "      <td>1.00</td>\n",
       "      <td>0.95</td>\n",
       "    </tr>\n",
       "    <tr>\n",
       "      <th>1</th>\n",
       "      <td>Gradient Boost</td>\n",
       "      <td>1.00</td>\n",
       "      <td>1.00</td>\n",
       "      <td>1.00</td>\n",
       "      <td>1.00</td>\n",
       "      <td>1.00</td>\n",
       "      <td>1.00</td>\n",
       "    </tr>\n",
       "    <tr>\n",
       "      <th>2</th>\n",
       "      <td>Random Forest</td>\n",
       "      <td>1.00</td>\n",
       "      <td>0.99</td>\n",
       "      <td>1.00</td>\n",
       "      <td>0.99</td>\n",
       "      <td>1.00</td>\n",
       "      <td>0.99</td>\n",
       "    </tr>\n",
       "    <tr>\n",
       "      <th>3</th>\n",
       "      <td>AdaBoost</td>\n",
       "      <td>1.00</td>\n",
       "      <td>1.00</td>\n",
       "      <td>1.00</td>\n",
       "      <td>1.00</td>\n",
       "      <td>1.00</td>\n",
       "      <td>1.00</td>\n",
       "    </tr>\n",
       "    <tr>\n",
       "      <th>4</th>\n",
       "      <td>SVM</td>\n",
       "      <td>1.00</td>\n",
       "      <td>1.00</td>\n",
       "      <td>1.00</td>\n",
       "      <td>1.00</td>\n",
       "      <td>1.00</td>\n",
       "      <td>1.00</td>\n",
       "    </tr>\n",
       "    <tr>\n",
       "      <th>5</th>\n",
       "      <td>KNN</td>\n",
       "      <td>0.98</td>\n",
       "      <td>0.96</td>\n",
       "      <td>0.98</td>\n",
       "      <td>0.96</td>\n",
       "      <td>0.98</td>\n",
       "      <td>0.96</td>\n",
       "    </tr>\n",
       "  </tbody>\n",
       "</table>\n",
       "</div>"
      ],
      "text/plain": [
       "            Model  Train_accuracy  Test_accuracy  Train_Recall  Test_Recall  \\\n",
       "0   Decision Tree            1.00           0.95          1.00         0.95   \n",
       "1  Gradient Boost            1.00           1.00          1.00         1.00   \n",
       "2   Random Forest            1.00           0.99          1.00         0.99   \n",
       "3        AdaBoost            1.00           1.00          1.00         1.00   \n",
       "4             SVM            1.00           1.00          1.00         1.00   \n",
       "5             KNN            0.98           0.96          0.98         0.96   \n",
       "\n",
       "   Train_Precision  Test_Precision  \n",
       "0             1.00            0.95  \n",
       "1             1.00            1.00  \n",
       "2             1.00            0.99  \n",
       "3             1.00            1.00  \n",
       "4             1.00            1.00  \n",
       "5             0.98            0.96  "
      ]
     },
     "execution_count": 40,
     "metadata": {},
     "output_type": "execute_result"
    }
   ],
   "source": [
    "models = [grid_search_dTree, grid_search_gbcl,grid_search_rfcl,grid_search_abcl,grid_search_svm,grid_search]\n",
    "model_names = ['Decision Tree','Gradient Boost','Random Forest','AdaBoost','SVM','KNN']\n",
    "\n",
    "comparision_frame = compare_models(models,model_names)\n",
    "comparision_frame"
   ]
  },
  {
   "cell_type": "markdown",
   "id": "c43a3023",
   "metadata": {},
   "source": [
    "#### Q6 B -Select the final best trained model along with your detailed comments for selecting this model."
   ]
  },
  {
   "cell_type": "markdown",
   "id": "135b68a9",
   "metadata": {},
   "source": [
    "From the above comparision chart its clear that the best trained model can be choose as SVM, Gradient Boost, Random Forest and AdaBoost are giving the highest accuracy, recall, precision for both training and test data when compared to KNN and Decision Tree algorithms."
   ]
  },
  {
   "cell_type": "markdown",
   "id": "bf1264ff",
   "metadata": {},
   "source": [
    "#### Q6 C -Pickle the selected model for future use"
   ]
  },
  {
   "cell_type": "code",
   "execution_count": 41,
   "id": "8a6d289c",
   "metadata": {},
   "outputs": [
    {
     "name": "stdout",
     "output_type": "stream",
     "text": [
      "Model saved as best_model.pkl\n"
     ]
    }
   ],
   "source": [
    "# Save the model to a file using pickle\n",
    "model_filename = 'best_model.pkl'\n",
    "with open(model_filename, 'wb') as model_file:\n",
    "    pickle.dump(best_model, model_file)\n",
    "\n",
    "print(f\"Model saved as {model_filename}\")"
   ]
  },
  {
   "cell_type": "markdown",
   "id": "00c95e28",
   "metadata": {},
   "source": [
    "#### Q6 D -Write your conclusion on the results"
   ]
  },
  {
   "cell_type": "markdown",
   "id": "36ca2a30",
   "metadata": {},
   "source": [
    "First, we preprocessed the dataset by splitting it into training and testing sets, standardizing the features to ensure uniform scaling, and then applying the kNN algorithm using scikit-learn's KNeighborsClassifier. We employed the PCA, GridSearchCV technique to perform a systematic search over a range of hyperparameters and find the best combination that maximizes model performance.Then repeated the above steps for SVM, RandomForest, AdaBoost, DecisionTree, GradientBoost. Finally we can see the results in the comparision table of the algorithms applied for the accuracy, precision, recall which gives a clear idea of which algorithm can be used for best performance."
   ]
  },
  {
   "cell_type": "code",
   "execution_count": null,
   "id": "b00af75a",
   "metadata": {},
   "outputs": [],
   "source": []
  }
 ],
 "metadata": {
  "kernelspec": {
   "display_name": "Python 3 (ipykernel)",
   "language": "python",
   "name": "python3"
  },
  "language_info": {
   "codemirror_mode": {
    "name": "ipython",
    "version": 3
   },
   "file_extension": ".py",
   "mimetype": "text/x-python",
   "name": "python",
   "nbconvert_exporter": "python",
   "pygments_lexer": "ipython3",
   "version": "3.10.9"
  }
 },
 "nbformat": 4,
 "nbformat_minor": 5
}
